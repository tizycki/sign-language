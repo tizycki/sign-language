{
 "cells": [
  {
   "cell_type": "code",
   "execution_count": 1,
   "metadata": {},
   "outputs": [],
   "source": [
    "import json\n",
    "import os\n",
    "import glob\n",
    "from tqdm import tqdm\n",
    "\n",
    "import numpy as np\n",
    "import pandas as pd\n",
    "\n",
    "from utils.keypoints import rescale_keypoints, read_keypoints\n",
    "\n",
    "import torch\n",
    "from model.models import StopPoseNet, SequenceRecognitionNet\n",
    "\n",
    "import cv2"
   ]
  },
  {
   "cell_type": "code",
   "execution_count": 2,
   "metadata": {},
   "outputs": [],
   "source": [
    "STOP_POSE_NET_PATH = './model/stop_pose_detector.pt'\n",
    "# JSON_FILES_PATH = ['./data/stop_pose_labelsSep-13-2020_2021.json']\n",
    "JSON_KEYPOINTS_BASE_PATH = './data/keypoints/internal_resource_2337_fps10'\n",
    "IMAGES_BASE_PATH = './data/video_frames/internal_resource_2337_fps10'\n",
    "RANDOM_STATE = 42\n",
    "\n",
    "DEVICE = torch.device('cpu')"
   ]
  },
  {
   "cell_type": "code",
   "execution_count": 3,
   "metadata": {},
   "outputs": [
    {
     "data": {
      "text/plain": [
       "StopPoseNet(\n",
       "  (fc1): Linear(in_features=114, out_features=256, bias=True)\n",
       "  (fc2): Linear(in_features=256, out_features=512, bias=True)\n",
       "  (fc3): Linear(in_features=512, out_features=128, bias=True)\n",
       "  (fc4): Linear(in_features=128, out_features=32, bias=True)\n",
       "  (fc5): Linear(in_features=32, out_features=2, bias=True)\n",
       "  (dropout1): Dropout(p=0.1, inplace=False)\n",
       "  (relu): ReLU()\n",
       ")"
      ]
     },
     "execution_count": 3,
     "metadata": {},
     "output_type": "execute_result"
    }
   ],
   "source": [
    "state_dict = torch.load(STOP_POSE_NET_PATH)\n",
    "stop_pose_net = StopPoseNet().to(DEVICE)\n",
    "stop_pose_net.load_state_dict(state_dict)\n",
    "stop_pose_net.eval()"
   ]
  },
  {
   "cell_type": "code",
   "execution_count": 4,
   "metadata": {},
   "outputs": [],
   "source": [
    "# pd.set_option('display.max_colwidth', 200)\n",
    "# labels_json = None\n",
    "# for json_file in JSON_FILES_PATH:\n",
    "#     with open(json_file, 'r') as f:\n",
    "#         for row in f.readlines():\n",
    "#             labels_json = json.loads(row)\n",
    "\n",
    "# df = pd.DataFrame(labels_json)\n",
    "\n",
    "# def get_keypoints_path(file_path):\n",
    "#     file_basename = os.path.basename(file_path).split('.')[0]\n",
    "#     keypoints_path = os.path.realpath(os.path.join(JSON_KEYPOINTS_BASE_PATH, f'{file_basename}_keypoints.json'))\n",
    "    \n",
    "#     return keypoints_path\n",
    "\n",
    "# df['keypoints_path'] = df['file_path'].apply(get_keypoints_path)\n",
    "# df"
   ]
  },
  {
   "cell_type": "code",
   "execution_count": 5,
   "metadata": {},
   "outputs": [
    {
     "name": "stderr",
     "output_type": "stream",
     "text": [
      "IOPub data rate exceeded.\n",
      "The notebook server will temporarily stop sending output\n",
      "to the client in order to avoid crashing it.\n",
      "To change this limit, set the config variable\n",
      "`--NotebookApp.iopub_data_rate_limit`.\n",
      "\n",
      "Current values:\n",
      "NotebookApp.iopub_data_rate_limit=1000000.0 (bytes/sec)\n",
      "NotebookApp.rate_limit_window=3.0 (secs)\n",
      "\n"
     ]
    },
    {
     "data": {
      "text/html": [
       "<div>\n",
       "<style scoped>\n",
       "    .dataframe tbody tr th:only-of-type {\n",
       "        vertical-align: middle;\n",
       "    }\n",
       "\n",
       "    .dataframe tbody tr th {\n",
       "        vertical-align: top;\n",
       "    }\n",
       "\n",
       "    .dataframe thead th {\n",
       "        text-align: right;\n",
       "    }\n",
       "</style>\n",
       "<table border=\"1\" class=\"dataframe\">\n",
       "  <thead>\n",
       "    <tr style=\"text-align: right;\">\n",
       "      <th></th>\n",
       "      <th>keypoints_path</th>\n",
       "      <th>file_path</th>\n",
       "    </tr>\n",
       "  </thead>\n",
       "  <tbody>\n",
       "    <tr>\n",
       "      <th>0</th>\n",
       "      <td>/home/tom/Desktop/projects/sign-language/data/keypoints/internal_resource_2337_fps10/internal_resource_2337_000100_keypoints.json</td>\n",
       "      <td>/home/tom/Desktop/projects/sign-language/data/video_frames/internal_resource_2337_fps10/internal_resource_2337_000100.jpg</td>\n",
       "    </tr>\n",
       "    <tr>\n",
       "      <th>1</th>\n",
       "      <td>/home/tom/Desktop/projects/sign-language/data/keypoints/internal_resource_2337_fps10/internal_resource_2337_000101_keypoints.json</td>\n",
       "      <td>/home/tom/Desktop/projects/sign-language/data/video_frames/internal_resource_2337_fps10/internal_resource_2337_000101.jpg</td>\n",
       "    </tr>\n",
       "    <tr>\n",
       "      <th>2</th>\n",
       "      <td>/home/tom/Desktop/projects/sign-language/data/keypoints/internal_resource_2337_fps10/internal_resource_2337_000102_keypoints.json</td>\n",
       "      <td>/home/tom/Desktop/projects/sign-language/data/video_frames/internal_resource_2337_fps10/internal_resource_2337_000102.jpg</td>\n",
       "    </tr>\n",
       "    <tr>\n",
       "      <th>3</th>\n",
       "      <td>/home/tom/Desktop/projects/sign-language/data/keypoints/internal_resource_2337_fps10/internal_resource_2337_000103_keypoints.json</td>\n",
       "      <td>/home/tom/Desktop/projects/sign-language/data/video_frames/internal_resource_2337_fps10/internal_resource_2337_000103.jpg</td>\n",
       "    </tr>\n",
       "    <tr>\n",
       "      <th>4</th>\n",
       "      <td>/home/tom/Desktop/projects/sign-language/data/keypoints/internal_resource_2337_fps10/internal_resource_2337_000104_keypoints.json</td>\n",
       "      <td>/home/tom/Desktop/projects/sign-language/data/video_frames/internal_resource_2337_fps10/internal_resource_2337_000104.jpg</td>\n",
       "    </tr>\n",
       "  </tbody>\n",
       "</table>\n",
       "</div>"
      ],
      "text/plain": [
       "                                                                                                                      keypoints_path  \\\n",
       "0  /home/tom/Desktop/projects/sign-language/data/keypoints/internal_resource_2337_fps10/internal_resource_2337_000100_keypoints.json   \n",
       "1  /home/tom/Desktop/projects/sign-language/data/keypoints/internal_resource_2337_fps10/internal_resource_2337_000101_keypoints.json   \n",
       "2  /home/tom/Desktop/projects/sign-language/data/keypoints/internal_resource_2337_fps10/internal_resource_2337_000102_keypoints.json   \n",
       "3  /home/tom/Desktop/projects/sign-language/data/keypoints/internal_resource_2337_fps10/internal_resource_2337_000103_keypoints.json   \n",
       "4  /home/tom/Desktop/projects/sign-language/data/keypoints/internal_resource_2337_fps10/internal_resource_2337_000104_keypoints.json   \n",
       "\n",
       "                                                                                                                   file_path  \n",
       "0  /home/tom/Desktop/projects/sign-language/data/video_frames/internal_resource_2337_fps10/internal_resource_2337_000100.jpg  \n",
       "1  /home/tom/Desktop/projects/sign-language/data/video_frames/internal_resource_2337_fps10/internal_resource_2337_000101.jpg  \n",
       "2  /home/tom/Desktop/projects/sign-language/data/video_frames/internal_resource_2337_fps10/internal_resource_2337_000102.jpg  \n",
       "3  /home/tom/Desktop/projects/sign-language/data/video_frames/internal_resource_2337_fps10/internal_resource_2337_000103.jpg  \n",
       "4  /home/tom/Desktop/projects/sign-language/data/video_frames/internal_resource_2337_fps10/internal_resource_2337_000104.jpg  "
      ]
     },
     "execution_count": 5,
     "metadata": {},
     "output_type": "execute_result"
    }
   ],
   "source": [
    "pd.set_option('display.max_colwidth', 200)\n",
    "\n",
    "# Get image file path\n",
    "def get_image_path(json_keypoints_path):\n",
    "    file_basename = os.path.basename(json_keypoints_path).split('.')[0]\n",
    "    file_basename = file_basename.replace('_keypoints', '')\n",
    "    image_path = os.path.join(IMAGES_BASE_PATH, f'{file_basename}.jpg')\n",
    "    \n",
    "    return image_path\n",
    "\n",
    "# Load JSON with keypoints\n",
    "json_files = []\n",
    "for file_path in glob.glob(f'{JSON_KEYPOINTS_BASE_PATH}/*.json'):\n",
    "    json_files.append({\n",
    "        'keypoints_path': os.path.realpath(file_path),\n",
    "        'file_path': os.path.realpath(get_image_path(file_path))\n",
    "        \n",
    "    })\n",
    "print(json_files)\n",
    "    \n",
    "df = pd.DataFrame(data=json_files).sort_values(by=['keypoints_path']).reset_index().drop(columns=['index'])\n",
    "\n",
    "df.head()"
   ]
  },
  {
   "cell_type": "code",
   "execution_count": 6,
   "metadata": {},
   "outputs": [],
   "source": [
    "stop_pose_net.eval()\n",
    "stop_pose_preds = []\n",
    "\n",
    "for row in df.itertuples():\n",
    "    keypoints = read_keypoints(row.keypoints_path)\n",
    "    if not keypoints.size:\n",
    "        continue\n",
    "        \n",
    "    keypoints = rescale_keypoints(keypoints)\n",
    "    keypoints_tensor = torch.FloatTensor(keypoints).to(DEVICE).unsqueeze(0)\n",
    "    \n",
    "    pred = stop_pose_net(keypoints_tensor).detach().cpu().numpy()\n",
    "    pred = np.argmax(pred)\n",
    "    stop_pose_preds.append(pred)"
   ]
  },
  {
   "cell_type": "code",
   "execution_count": 7,
   "metadata": {},
   "outputs": [],
   "source": [
    "def extract_sequences(vector):\n",
    "    # Create an array that is 1 where a is 0, and pad each end with an extra 0.\n",
    "    is_one = np.concatenate(([0], np.equal(np.array(vector), 0).view(np.int8), [0]))\n",
    "    diff_abs = np.abs(np.diff(is_one))\n",
    "    \n",
    "    # Runs start and end where absdiff is 1.\n",
    "    ranges = np.where(diff_abs == 1)[0].reshape(-1, 2)\n",
    "    return ranges\n",
    "\n",
    "sequences = extract_sequences(stop_pose_preds)"
   ]
  },
  {
   "cell_type": "code",
   "execution_count": 8,
   "metadata": {},
   "outputs": [
    {
     "data": {
      "text/plain": [
       "(317, 2)"
      ]
     },
     "execution_count": 8,
     "metadata": {},
     "output_type": "execute_result"
    }
   ],
   "source": [
    "sequences.shape"
   ]
  },
  {
   "cell_type": "code",
   "execution_count": 9,
   "metadata": {},
   "outputs": [
    {
     "name": "stderr",
     "output_type": "stream",
     "text": [
      "317it [04:03,  1.30it/s]"
     ]
    },
    {
     "name": "stdout",
     "output_type": "stream",
     "text": [
      "Done\n"
     ]
    },
    {
     "name": "stderr",
     "output_type": "stream",
     "text": [
      "\n"
     ]
    }
   ],
   "source": [
    "video_output_dir = './data/rendered_video/internal_resource_2337_fps10'\n",
    "fps = 10\n",
    "sequence_info = []\n",
    "\n",
    "for i, sequence_range in tqdm(enumerate(sequences)):\n",
    "    \n",
    "    video_name = f'internal_resource_{sequence_range[0]}_{sequence_range[1]}.avi'\n",
    "    video_path = os.path.join(video_output_dir, video_name)\n",
    "    \n",
    "    images = df.iloc[sequence_range[0]: sequence_range[1]]['file_path'].to_numpy().tolist()\n",
    "    keypoints = df.iloc[sequence_range[0]: sequence_range[1]]['keypoints_path'].to_numpy().tolist()\n",
    "    frame = cv2.imread(images[0])\n",
    "    height, width, layers = frame.shape\n",
    "    \n",
    "    video = cv2.VideoWriter(video_path, 0, fps, (width,height))\n",
    "\n",
    "    for image_path in images:\n",
    "        video.write(cv2.imread(image_path))\n",
    "\n",
    "    video.release()\n",
    "    \n",
    "    # Save info to df\n",
    "    sequence_info.append(\n",
    "        {\n",
    "            'id': i,\n",
    "            'video_path': video_path,\n",
    "            'image_path': images,\n",
    "            'keypoints_path': keypoints\n",
    "        }\n",
    "    )\n",
    "print('Done')"
   ]
  },
  {
   "cell_type": "code",
   "execution_count": 10,
   "metadata": {},
   "outputs": [
    {
     "name": "stdout",
     "output_type": "stream",
     "text": [
      "./data/rendered_video/internal_resource_2337_fps10/internal_resource_13_34.avi\n"
     ]
    },
    {
     "name": "stdin",
     "output_type": "stream",
     "text": [
      "Provide label: Hello\n"
     ]
    },
    {
     "name": "stdout",
     "output_type": "stream",
     "text": [
      "./data/rendered_video/internal_resource_2337_fps10/internal_resource_46_65.avi\n"
     ]
    },
    {
     "name": "stdin",
     "output_type": "stream",
     "text": [
      "Provide label: Hello\n"
     ]
    },
    {
     "name": "stdout",
     "output_type": "stream",
     "text": [
      "./data/rendered_video/internal_resource_2337_fps10/internal_resource_77_101.avi\n"
     ]
    },
    {
     "name": "stdin",
     "output_type": "stream",
     "text": [
      "Provide label: Hello\n"
     ]
    },
    {
     "name": "stdout",
     "output_type": "stream",
     "text": [
      "./data/rendered_video/internal_resource_2337_fps10/internal_resource_110_132.avi\n"
     ]
    },
    {
     "name": "stdin",
     "output_type": "stream",
     "text": [
      "Provide label: Hello\n"
     ]
    },
    {
     "name": "stdout",
     "output_type": "stream",
     "text": [
      "./data/rendered_video/internal_resource_2337_fps10/internal_resource_142_164.avi\n"
     ]
    },
    {
     "name": "stdin",
     "output_type": "stream",
     "text": [
      "Provide label: Hello\n"
     ]
    },
    {
     "name": "stdout",
     "output_type": "stream",
     "text": [
      "./data/rendered_video/internal_resource_2337_fps10/internal_resource_174_196.avi\n"
     ]
    },
    {
     "name": "stdin",
     "output_type": "stream",
     "text": [
      "Provide label: Hello\n"
     ]
    },
    {
     "name": "stdout",
     "output_type": "stream",
     "text": [
      "./data/rendered_video/internal_resource_2337_fps10/internal_resource_205_227.avi\n"
     ]
    },
    {
     "name": "stdin",
     "output_type": "stream",
     "text": [
      "Provide label: Hello\n"
     ]
    },
    {
     "name": "stdout",
     "output_type": "stream",
     "text": [
      "./data/rendered_video/internal_resource_2337_fps10/internal_resource_238_265.avi\n"
     ]
    },
    {
     "name": "stdin",
     "output_type": "stream",
     "text": [
      "Provide label: Good day\n"
     ]
    },
    {
     "name": "stdout",
     "output_type": "stream",
     "text": [
      "./data/rendered_video/internal_resource_2337_fps10/internal_resource_275_305.avi\n"
     ]
    },
    {
     "name": "stdin",
     "output_type": "stream",
     "text": [
      "Provide label: Good day\n"
     ]
    },
    {
     "name": "stdout",
     "output_type": "stream",
     "text": [
      "./data/rendered_video/internal_resource_2337_fps10/internal_resource_316_347.avi\n"
     ]
    },
    {
     "name": "stdin",
     "output_type": "stream",
     "text": [
      "Provide label: Good day\n"
     ]
    },
    {
     "name": "stdout",
     "output_type": "stream",
     "text": [
      "./data/rendered_video/internal_resource_2337_fps10/internal_resource_356_382.avi\n"
     ]
    },
    {
     "name": "stdin",
     "output_type": "stream",
     "text": [
      "Provide label: Good day\n"
     ]
    },
    {
     "name": "stdout",
     "output_type": "stream",
     "text": [
      "./data/rendered_video/internal_resource_2337_fps10/internal_resource_392_420.avi\n"
     ]
    },
    {
     "name": "stdin",
     "output_type": "stream",
     "text": [
      "Provide label: Good day\n"
     ]
    },
    {
     "name": "stdout",
     "output_type": "stream",
     "text": [
      "./data/rendered_video/internal_resource_2337_fps10/internal_resource_430_459.avi\n"
     ]
    },
    {
     "name": "stdin",
     "output_type": "stream",
     "text": [
      "Provide label: Good day\n"
     ]
    },
    {
     "name": "stdout",
     "output_type": "stream",
     "text": [
      "./data/rendered_video/internal_resource_2337_fps10/internal_resource_467_496.avi\n"
     ]
    },
    {
     "name": "stdin",
     "output_type": "stream",
     "text": [
      "Provide label: Good day\n"
     ]
    },
    {
     "name": "stdout",
     "output_type": "stream",
     "text": [
      "./data/rendered_video/internal_resource_2337_fps10/internal_resource_506_536.avi\n"
     ]
    },
    {
     "name": "stdin",
     "output_type": "stream",
     "text": [
      "Provide label: Good day\n"
     ]
    },
    {
     "name": "stdout",
     "output_type": "stream",
     "text": [
      "./data/rendered_video/internal_resource_2337_fps10/internal_resource_545_573.avi\n"
     ]
    },
    {
     "name": "stdin",
     "output_type": "stream",
     "text": [
      "Provide label: Good day\n"
     ]
    },
    {
     "name": "stdout",
     "output_type": "stream",
     "text": [
      "./data/rendered_video/internal_resource_2337_fps10/internal_resource_584_613.avi\n"
     ]
    },
    {
     "name": "stdin",
     "output_type": "stream",
     "text": [
      "Provide label: Good day\n"
     ]
    },
    {
     "name": "stdout",
     "output_type": "stream",
     "text": [
      "./data/rendered_video/internal_resource_2337_fps10/internal_resource_620_635.avi\n"
     ]
    },
    {
     "name": "stdin",
     "output_type": "stream",
     "text": [
      "Provide label: My\n"
     ]
    },
    {
     "name": "stdout",
     "output_type": "stream",
     "text": [
      "./data/rendered_video/internal_resource_2337_fps10/internal_resource_649_665.avi\n"
     ]
    },
    {
     "name": "stdin",
     "output_type": "stream",
     "text": [
      "Provide label: My\n"
     ]
    },
    {
     "name": "stdout",
     "output_type": "stream",
     "text": [
      "./data/rendered_video/internal_resource_2337_fps10/internal_resource_677_693.avi\n"
     ]
    },
    {
     "name": "stdin",
     "output_type": "stream",
     "text": [
      "Provide label: My\n"
     ]
    },
    {
     "name": "stdout",
     "output_type": "stream",
     "text": [
      "./data/rendered_video/internal_resource_2337_fps10/internal_resource_703_721.avi\n"
     ]
    },
    {
     "name": "stdin",
     "output_type": "stream",
     "text": [
      "Provide label: My\n"
     ]
    },
    {
     "name": "stdout",
     "output_type": "stream",
     "text": [
      "./data/rendered_video/internal_resource_2337_fps10/internal_resource_733_751.avi\n"
     ]
    },
    {
     "name": "stdin",
     "output_type": "stream",
     "text": [
      "Provide label: My\n"
     ]
    },
    {
     "name": "stdout",
     "output_type": "stream",
     "text": [
      "./data/rendered_video/internal_resource_2337_fps10/internal_resource_764_782.avi\n"
     ]
    },
    {
     "name": "stdin",
     "output_type": "stream",
     "text": [
      "Provide label: My\n"
     ]
    },
    {
     "name": "stdout",
     "output_type": "stream",
     "text": [
      "./data/rendered_video/internal_resource_2337_fps10/internal_resource_795_812.avi\n"
     ]
    },
    {
     "name": "stdin",
     "output_type": "stream",
     "text": [
      "Provide label: My\n"
     ]
    },
    {
     "name": "stdout",
     "output_type": "stream",
     "text": [
      "./data/rendered_video/internal_resource_2337_fps10/internal_resource_824_843.avi\n"
     ]
    },
    {
     "name": "stdin",
     "output_type": "stream",
     "text": [
      "Provide label: My\n"
     ]
    },
    {
     "name": "stdout",
     "output_type": "stream",
     "text": [
      "./data/rendered_video/internal_resource_2337_fps10/internal_resource_854_873.avi\n"
     ]
    },
    {
     "name": "stdin",
     "output_type": "stream",
     "text": [
      "Provide label: My\n"
     ]
    },
    {
     "name": "stdout",
     "output_type": "stream",
     "text": [
      "./data/rendered_video/internal_resource_2337_fps10/internal_resource_885_902.avi\n"
     ]
    },
    {
     "name": "stdin",
     "output_type": "stream",
     "text": [
      "Provide label: My\n"
     ]
    },
    {
     "name": "stdout",
     "output_type": "stream",
     "text": [
      "./data/rendered_video/internal_resource_2337_fps10/internal_resource_915_934.avi\n"
     ]
    },
    {
     "name": "stdin",
     "output_type": "stream",
     "text": [
      "Provide label: My\n"
     ]
    },
    {
     "name": "stdout",
     "output_type": "stream",
     "text": [
      "./data/rendered_video/internal_resource_2337_fps10/internal_resource_946_966.avi\n"
     ]
    },
    {
     "name": "stdin",
     "output_type": "stream",
     "text": [
      "Provide label: My\n"
     ]
    },
    {
     "name": "stdout",
     "output_type": "stream",
     "text": [
      "./data/rendered_video/internal_resource_2337_fps10/internal_resource_978_998.avi\n"
     ]
    },
    {
     "name": "stdin",
     "output_type": "stream",
     "text": [
      "Provide label: My\n"
     ]
    },
    {
     "name": "stdout",
     "output_type": "stream",
     "text": [
      "./data/rendered_video/internal_resource_2337_fps10/internal_resource_1010_1030.avi\n"
     ]
    },
    {
     "name": "stdin",
     "output_type": "stream",
     "text": [
      "Provide label: My\n"
     ]
    },
    {
     "name": "stdout",
     "output_type": "stream",
     "text": [
      "./data/rendered_video/internal_resource_2337_fps10/internal_resource_1042_1061.avi\n"
     ]
    },
    {
     "name": "stdin",
     "output_type": "stream",
     "text": [
      "Provide label: My\n"
     ]
    },
    {
     "name": "stdout",
     "output_type": "stream",
     "text": [
      "./data/rendered_video/internal_resource_2337_fps10/internal_resource_1073_1093.avi\n"
     ]
    },
    {
     "name": "stdin",
     "output_type": "stream",
     "text": [
      "Provide label: My\n"
     ]
    },
    {
     "name": "stdout",
     "output_type": "stream",
     "text": [
      "./data/rendered_video/internal_resource_2337_fps10/internal_resource_1105_1125.avi\n"
     ]
    },
    {
     "name": "stdin",
     "output_type": "stream",
     "text": [
      "Provide label: My\n"
     ]
    },
    {
     "name": "stdout",
     "output_type": "stream",
     "text": [
      "./data/rendered_video/internal_resource_2337_fps10/internal_resource_1136_1155.avi\n"
     ]
    },
    {
     "name": "stdin",
     "output_type": "stream",
     "text": [
      "Provide label: My\n"
     ]
    },
    {
     "name": "stdout",
     "output_type": "stream",
     "text": [
      "./data/rendered_video/internal_resource_2337_fps10/internal_resource_1166_1187.avi\n"
     ]
    },
    {
     "name": "stdin",
     "output_type": "stream",
     "text": [
      "Provide label: My\n"
     ]
    },
    {
     "name": "stdout",
     "output_type": "stream",
     "text": [
      "./data/rendered_video/internal_resource_2337_fps10/internal_resource_1199_1221.avi\n"
     ]
    },
    {
     "name": "stdin",
     "output_type": "stream",
     "text": [
      "Provide label: My\n"
     ]
    },
    {
     "name": "stdout",
     "output_type": "stream",
     "text": [
      "./data/rendered_video/internal_resource_2337_fps10/internal_resource_1232_1253.avi\n"
     ]
    },
    {
     "name": "stdin",
     "output_type": "stream",
     "text": [
      "Provide label: My\n"
     ]
    },
    {
     "name": "stdout",
     "output_type": "stream",
     "text": [
      "./data/rendered_video/internal_resource_2337_fps10/internal_resource_1265_1285.avi\n"
     ]
    },
    {
     "name": "stdin",
     "output_type": "stream",
     "text": [
      "Provide label: My\n"
     ]
    },
    {
     "name": "stdout",
     "output_type": "stream",
     "text": [
      "./data/rendered_video/internal_resource_2337_fps10/internal_resource_1296_1315.avi\n"
     ]
    },
    {
     "name": "stdin",
     "output_type": "stream",
     "text": [
      "Provide label: My\n"
     ]
    },
    {
     "name": "stdout",
     "output_type": "stream",
     "text": [
      "./data/rendered_video/internal_resource_2337_fps10/internal_resource_1329_1349.avi\n"
     ]
    },
    {
     "name": "stdin",
     "output_type": "stream",
     "text": [
      "Provide label: My\n"
     ]
    },
    {
     "name": "stdout",
     "output_type": "stream",
     "text": [
      "./data/rendered_video/internal_resource_2337_fps10/internal_resource_1359_1380.avi\n"
     ]
    },
    {
     "name": "stdin",
     "output_type": "stream",
     "text": [
      "Provide label: My\n"
     ]
    },
    {
     "name": "stdout",
     "output_type": "stream",
     "text": [
      "./data/rendered_video/internal_resource_2337_fps10/internal_resource_1392_1412.avi\n"
     ]
    },
    {
     "name": "stdin",
     "output_type": "stream",
     "text": [
      "Provide label: My\n"
     ]
    },
    {
     "name": "stdout",
     "output_type": "stream",
     "text": [
      "./data/rendered_video/internal_resource_2337_fps10/internal_resource_1425_1443.avi\n"
     ]
    },
    {
     "name": "stdin",
     "output_type": "stream",
     "text": [
      "Provide label: My\n"
     ]
    },
    {
     "name": "stdout",
     "output_type": "stream",
     "text": [
      "./data/rendered_video/internal_resource_2337_fps10/internal_resource_1457_1476.avi\n"
     ]
    },
    {
     "name": "stdin",
     "output_type": "stream",
     "text": [
      "Provide label: My\n"
     ]
    },
    {
     "name": "stdout",
     "output_type": "stream",
     "text": [
      "./data/rendered_video/internal_resource_2337_fps10/internal_resource_1489_1509.avi\n"
     ]
    },
    {
     "name": "stdin",
     "output_type": "stream",
     "text": [
      "Provide label: My\n"
     ]
    },
    {
     "name": "stdout",
     "output_type": "stream",
     "text": [
      "./data/rendered_video/internal_resource_2337_fps10/internal_resource_1522_1542.avi\n"
     ]
    },
    {
     "name": "stdin",
     "output_type": "stream",
     "text": [
      "Provide label: My\n"
     ]
    },
    {
     "name": "stdout",
     "output_type": "stream",
     "text": [
      "./data/rendered_video/internal_resource_2337_fps10/internal_resource_1553_1573.avi\n"
     ]
    },
    {
     "name": "stdin",
     "output_type": "stream",
     "text": [
      "Provide label: My\n"
     ]
    },
    {
     "name": "stdout",
     "output_type": "stream",
     "text": [
      "./data/rendered_video/internal_resource_2337_fps10/internal_resource_1585_1605.avi\n"
     ]
    },
    {
     "name": "stdin",
     "output_type": "stream",
     "text": [
      "Provide label: My\n"
     ]
    },
    {
     "name": "stdout",
     "output_type": "stream",
     "text": [
      "./data/rendered_video/internal_resource_2337_fps10/internal_resource_1616_1637.avi\n"
     ]
    },
    {
     "name": "stdin",
     "output_type": "stream",
     "text": [
      "Provide label: My\n"
     ]
    },
    {
     "name": "stdout",
     "output_type": "stream",
     "text": [
      "./data/rendered_video/internal_resource_2337_fps10/internal_resource_1648_1669.avi\n"
     ]
    },
    {
     "name": "stdin",
     "output_type": "stream",
     "text": [
      "Provide label: My\n"
     ]
    },
    {
     "name": "stdout",
     "output_type": "stream",
     "text": [
      "./data/rendered_video/internal_resource_2337_fps10/internal_resource_1682_1703.avi\n"
     ]
    },
    {
     "name": "stdin",
     "output_type": "stream",
     "text": [
      "Provide label: My\n"
     ]
    },
    {
     "name": "stdout",
     "output_type": "stream",
     "text": [
      "./data/rendered_video/internal_resource_2337_fps10/internal_resource_1712_1736.avi\n"
     ]
    },
    {
     "name": "stdin",
     "output_type": "stream",
     "text": [
      "Provide label: Name\n"
     ]
    },
    {
     "name": "stdout",
     "output_type": "stream",
     "text": [
      "./data/rendered_video/internal_resource_2337_fps10/internal_resource_1752_1778.avi\n"
     ]
    },
    {
     "name": "stdin",
     "output_type": "stream",
     "text": [
      "Provide label: Name\n"
     ]
    },
    {
     "name": "stdout",
     "output_type": "stream",
     "text": [
      "./data/rendered_video/internal_resource_2337_fps10/internal_resource_1791_1816.avi\n"
     ]
    },
    {
     "name": "stdin",
     "output_type": "stream",
     "text": [
      "Provide label: Name\n"
     ]
    },
    {
     "name": "stdout",
     "output_type": "stream",
     "text": [
      "./data/rendered_video/internal_resource_2337_fps10/internal_resource_1828_1855.avi\n"
     ]
    },
    {
     "name": "stdin",
     "output_type": "stream",
     "text": [
      "Provide label: Name\n"
     ]
    },
    {
     "name": "stdout",
     "output_type": "stream",
     "text": [
      "./data/rendered_video/internal_resource_2337_fps10/internal_resource_1870_1895.avi\n"
     ]
    },
    {
     "name": "stdin",
     "output_type": "stream",
     "text": [
      "Provide label: Name\n"
     ]
    },
    {
     "name": "stdout",
     "output_type": "stream",
     "text": [
      "./data/rendered_video/internal_resource_2337_fps10/internal_resource_1910_1934.avi\n"
     ]
    },
    {
     "name": "stdin",
     "output_type": "stream",
     "text": [
      "Provide label: Name\n"
     ]
    },
    {
     "name": "stdout",
     "output_type": "stream",
     "text": [
      "./data/rendered_video/internal_resource_2337_fps10/internal_resource_1947_1972.avi\n"
     ]
    },
    {
     "name": "stdin",
     "output_type": "stream",
     "text": [
      "Provide label: Name\n"
     ]
    },
    {
     "name": "stdout",
     "output_type": "stream",
     "text": [
      "./data/rendered_video/internal_resource_2337_fps10/internal_resource_1986_2010.avi\n"
     ]
    },
    {
     "name": "stdin",
     "output_type": "stream",
     "text": [
      "Provide label: Name\n"
     ]
    },
    {
     "name": "stdout",
     "output_type": "stream",
     "text": [
      "./data/rendered_video/internal_resource_2337_fps10/internal_resource_2022_2048.avi\n"
     ]
    },
    {
     "name": "stdin",
     "output_type": "stream",
     "text": [
      "Provide label: Name\n"
     ]
    },
    {
     "name": "stdout",
     "output_type": "stream",
     "text": [
      "./data/rendered_video/internal_resource_2337_fps10/internal_resource_2061_2086.avi\n"
     ]
    },
    {
     "name": "stdin",
     "output_type": "stream",
     "text": [
      "Provide label: Name\n"
     ]
    },
    {
     "name": "stdout",
     "output_type": "stream",
     "text": [
      "./data/rendered_video/internal_resource_2337_fps10/internal_resource_2098_2124.avi\n"
     ]
    },
    {
     "name": "stdin",
     "output_type": "stream",
     "text": [
      "Provide label: Name\n"
     ]
    },
    {
     "name": "stdout",
     "output_type": "stream",
     "text": [
      "./data/rendered_video/internal_resource_2337_fps10/internal_resource_2137_2165.avi\n"
     ]
    },
    {
     "name": "stdin",
     "output_type": "stream",
     "text": [
      "Provide label: Name\n"
     ]
    },
    {
     "name": "stdout",
     "output_type": "stream",
     "text": [
      "./data/rendered_video/internal_resource_2337_fps10/internal_resource_2177_2202.avi\n"
     ]
    },
    {
     "name": "stdin",
     "output_type": "stream",
     "text": [
      "Provide label: Name\n"
     ]
    },
    {
     "name": "stdout",
     "output_type": "stream",
     "text": [
      "./data/rendered_video/internal_resource_2337_fps10/internal_resource_2214_2242.avi\n"
     ]
    },
    {
     "name": "stdin",
     "output_type": "stream",
     "text": [
      "Provide label: Name\n"
     ]
    },
    {
     "name": "stdout",
     "output_type": "stream",
     "text": [
      "./data/rendered_video/internal_resource_2337_fps10/internal_resource_2255_2280.avi\n"
     ]
    },
    {
     "name": "stdin",
     "output_type": "stream",
     "text": [
      "Provide label: Name\n"
     ]
    },
    {
     "name": "stdout",
     "output_type": "stream",
     "text": [
      "./data/rendered_video/internal_resource_2337_fps10/internal_resource_2294_2321.avi\n"
     ]
    },
    {
     "name": "stdin",
     "output_type": "stream",
     "text": [
      "Provide label: Name\n"
     ]
    },
    {
     "name": "stdout",
     "output_type": "stream",
     "text": [
      "./data/rendered_video/internal_resource_2337_fps10/internal_resource_2333_2358.avi\n"
     ]
    },
    {
     "name": "stdin",
     "output_type": "stream",
     "text": [
      "Provide label: Name\n"
     ]
    },
    {
     "name": "stdout",
     "output_type": "stream",
     "text": [
      "./data/rendered_video/internal_resource_2337_fps10/internal_resource_2370_2396.avi\n"
     ]
    },
    {
     "name": "stdin",
     "output_type": "stream",
     "text": [
      "Provide label: Name\n"
     ]
    },
    {
     "name": "stdout",
     "output_type": "stream",
     "text": [
      "./data/rendered_video/internal_resource_2337_fps10/internal_resource_2409_2435.avi\n"
     ]
    },
    {
     "name": "stdin",
     "output_type": "stream",
     "text": [
      "Provide label: Name\n"
     ]
    },
    {
     "name": "stdout",
     "output_type": "stream",
     "text": [
      "./data/rendered_video/internal_resource_2337_fps10/internal_resource_2449_2474.avi\n"
     ]
    },
    {
     "name": "stdin",
     "output_type": "stream",
     "text": [
      "Provide label: Name\n"
     ]
    },
    {
     "name": "stdout",
     "output_type": "stream",
     "text": [
      "./data/rendered_video/internal_resource_2337_fps10/internal_resource_2487_2511.avi\n"
     ]
    },
    {
     "name": "stdin",
     "output_type": "stream",
     "text": [
      "Provide label: Name\n"
     ]
    },
    {
     "name": "stdout",
     "output_type": "stream",
     "text": [
      "./data/rendered_video/internal_resource_2337_fps10/internal_resource_2526_2552.avi\n"
     ]
    },
    {
     "name": "stdin",
     "output_type": "stream",
     "text": [
      "Provide label: Name\n"
     ]
    },
    {
     "name": "stdout",
     "output_type": "stream",
     "text": [
      "./data/rendered_video/internal_resource_2337_fps10/internal_resource_2564_2590.avi\n"
     ]
    },
    {
     "name": "stdin",
     "output_type": "stream",
     "text": [
      "Provide label: Name\n"
     ]
    },
    {
     "name": "stdout",
     "output_type": "stream",
     "text": [
      "./data/rendered_video/internal_resource_2337_fps10/internal_resource_2603_2631.avi\n"
     ]
    },
    {
     "name": "stdin",
     "output_type": "stream",
     "text": [
      "Provide label: Name\n"
     ]
    },
    {
     "name": "stdout",
     "output_type": "stream",
     "text": [
      "./data/rendered_video/internal_resource_2337_fps10/internal_resource_2643_2670.avi\n"
     ]
    },
    {
     "name": "stdin",
     "output_type": "stream",
     "text": [
      "Provide label: Name\n"
     ]
    },
    {
     "name": "stdout",
     "output_type": "stream",
     "text": [
      "./data/rendered_video/internal_resource_2337_fps10/internal_resource_2683_2709.avi\n"
     ]
    },
    {
     "name": "stdin",
     "output_type": "stream",
     "text": [
      "Provide label: Name\n"
     ]
    },
    {
     "name": "stdout",
     "output_type": "stream",
     "text": [
      "./data/rendered_video/internal_resource_2337_fps10/internal_resource_2722_2746.avi\n"
     ]
    },
    {
     "name": "stdin",
     "output_type": "stream",
     "text": [
      "Provide label: Name\n"
     ]
    },
    {
     "name": "stdout",
     "output_type": "stream",
     "text": [
      "./data/rendered_video/internal_resource_2337_fps10/internal_resource_2759_2784.avi\n"
     ]
    },
    {
     "name": "stdin",
     "output_type": "stream",
     "text": [
      "Provide label: Name\n"
     ]
    },
    {
     "name": "stdout",
     "output_type": "stream",
     "text": [
      "./data/rendered_video/internal_resource_2337_fps10/internal_resource_2796_2823.avi\n"
     ]
    },
    {
     "name": "stdin",
     "output_type": "stream",
     "text": [
      "Provide label: Name\n"
     ]
    },
    {
     "name": "stdout",
     "output_type": "stream",
     "text": [
      "./data/rendered_video/internal_resource_2337_fps10/internal_resource_2833_2859.avi\n"
     ]
    },
    {
     "name": "stdin",
     "output_type": "stream",
     "text": [
      "Provide label: Name\n"
     ]
    },
    {
     "name": "stdout",
     "output_type": "stream",
     "text": [
      "./data/rendered_video/internal_resource_2337_fps10/internal_resource_2871_2896.avi\n"
     ]
    },
    {
     "name": "stdin",
     "output_type": "stream",
     "text": [
      "Provide label: Name\n"
     ]
    },
    {
     "name": "stdout",
     "output_type": "stream",
     "text": [
      "./data/rendered_video/internal_resource_2337_fps10/internal_resource_2913_2953.avi\n"
     ]
    },
    {
     "name": "stdin",
     "output_type": "stream",
     "text": [
      "Provide label: Tom\n"
     ]
    },
    {
     "name": "stdout",
     "output_type": "stream",
     "text": [
      "./data/rendered_video/internal_resource_2337_fps10/internal_resource_2963_2995.avi\n"
     ]
    },
    {
     "name": "stdin",
     "output_type": "stream",
     "text": [
      "Provide label: Tom\n"
     ]
    },
    {
     "name": "stdout",
     "output_type": "stream",
     "text": [
      "./data/rendered_video/internal_resource_2337_fps10/internal_resource_3006_3040.avi\n"
     ]
    },
    {
     "name": "stdin",
     "output_type": "stream",
     "text": [
      "Provide label: Tom\n"
     ]
    },
    {
     "name": "stdout",
     "output_type": "stream",
     "text": [
      "./data/rendered_video/internal_resource_2337_fps10/internal_resource_3048_3083.avi\n"
     ]
    },
    {
     "name": "stdin",
     "output_type": "stream",
     "text": [
      "Provide label: Tom\n"
     ]
    },
    {
     "name": "stdout",
     "output_type": "stream",
     "text": [
      "./data/rendered_video/internal_resource_2337_fps10/internal_resource_3093_3129.avi\n"
     ]
    },
    {
     "name": "stdin",
     "output_type": "stream",
     "text": [
      "Provide label: Tom\n"
     ]
    },
    {
     "name": "stdout",
     "output_type": "stream",
     "text": [
      "./data/rendered_video/internal_resource_2337_fps10/internal_resource_3137_3173.avi\n"
     ]
    },
    {
     "name": "stdin",
     "output_type": "stream",
     "text": [
      "Provide label: Tom\n"
     ]
    },
    {
     "name": "stdout",
     "output_type": "stream",
     "text": [
      "./data/rendered_video/internal_resource_2337_fps10/internal_resource_3182_3218.avi\n"
     ]
    },
    {
     "name": "stdin",
     "output_type": "stream",
     "text": [
      "Provide label: Tom\n"
     ]
    },
    {
     "name": "stdout",
     "output_type": "stream",
     "text": [
      "./data/rendered_video/internal_resource_2337_fps10/internal_resource_3227_3262.avi\n"
     ]
    },
    {
     "name": "stdin",
     "output_type": "stream",
     "text": [
      "Provide label: Tom\n"
     ]
    },
    {
     "name": "stdout",
     "output_type": "stream",
     "text": [
      "./data/rendered_video/internal_resource_2337_fps10/internal_resource_3271_3306.avi\n"
     ]
    },
    {
     "name": "stdin",
     "output_type": "stream",
     "text": [
      "Provide label: Tom\n"
     ]
    },
    {
     "name": "stdout",
     "output_type": "stream",
     "text": [
      "./data/rendered_video/internal_resource_2337_fps10/internal_resource_3315_3349.avi\n"
     ]
    },
    {
     "name": "stdin",
     "output_type": "stream",
     "text": [
      "Provide label: Tom\n"
     ]
    },
    {
     "name": "stdout",
     "output_type": "stream",
     "text": [
      "./data/rendered_video/internal_resource_2337_fps10/internal_resource_3358_3392.avi\n"
     ]
    },
    {
     "name": "stdin",
     "output_type": "stream",
     "text": [
      "Provide label: Tom\n"
     ]
    },
    {
     "name": "stdout",
     "output_type": "stream",
     "text": [
      "./data/rendered_video/internal_resource_2337_fps10/internal_resource_3401_3437.avi\n"
     ]
    },
    {
     "name": "stdin",
     "output_type": "stream",
     "text": [
      "Provide label: Tom\n"
     ]
    },
    {
     "name": "stdout",
     "output_type": "stream",
     "text": [
      "./data/rendered_video/internal_resource_2337_fps10/internal_resource_3445_3480.avi\n"
     ]
    },
    {
     "name": "stdin",
     "output_type": "stream",
     "text": [
      "Provide label: Tom\n"
     ]
    },
    {
     "name": "stdout",
     "output_type": "stream",
     "text": [
      "./data/rendered_video/internal_resource_2337_fps10/internal_resource_3489_3524.avi\n"
     ]
    },
    {
     "name": "stdin",
     "output_type": "stream",
     "text": [
      "Provide label: Tom\n"
     ]
    },
    {
     "name": "stdout",
     "output_type": "stream",
     "text": [
      "./data/rendered_video/internal_resource_2337_fps10/internal_resource_3533_3566.avi\n"
     ]
    },
    {
     "name": "stdin",
     "output_type": "stream",
     "text": [
      "Provide label: Tom\n"
     ]
    },
    {
     "name": "stdout",
     "output_type": "stream",
     "text": [
      "./data/rendered_video/internal_resource_2337_fps10/internal_resource_3575_3609.avi\n"
     ]
    },
    {
     "name": "stdin",
     "output_type": "stream",
     "text": [
      "Provide label: Tom\n"
     ]
    },
    {
     "name": "stdout",
     "output_type": "stream",
     "text": [
      "./data/rendered_video/internal_resource_2337_fps10/internal_resource_3618_3652.avi\n"
     ]
    },
    {
     "name": "stdin",
     "output_type": "stream",
     "text": [
      "Provide label: Tom\n"
     ]
    },
    {
     "name": "stdout",
     "output_type": "stream",
     "text": [
      "./data/rendered_video/internal_resource_2337_fps10/internal_resource_3661_3696.avi\n"
     ]
    },
    {
     "name": "stdin",
     "output_type": "stream",
     "text": [
      "Provide label: Tom\n"
     ]
    },
    {
     "name": "stdout",
     "output_type": "stream",
     "text": [
      "./data/rendered_video/internal_resource_2337_fps10/internal_resource_3705_3739.avi\n"
     ]
    },
    {
     "name": "stdin",
     "output_type": "stream",
     "text": [
      "Provide label: Tom\n"
     ]
    },
    {
     "name": "stdout",
     "output_type": "stream",
     "text": [
      "./data/rendered_video/internal_resource_2337_fps10/internal_resource_3751_3779.avi\n"
     ]
    },
    {
     "name": "stdin",
     "output_type": "stream",
     "text": [
      "Provide label: Meet\n"
     ]
    },
    {
     "name": "stdout",
     "output_type": "stream",
     "text": [
      "./data/rendered_video/internal_resource_2337_fps10/internal_resource_3793_3824.avi\n"
     ]
    },
    {
     "name": "stdin",
     "output_type": "stream",
     "text": [
      "Provide label: Meet\n"
     ]
    },
    {
     "name": "stdout",
     "output_type": "stream",
     "text": [
      "./data/rendered_video/internal_resource_2337_fps10/internal_resource_3837_3866.avi\n"
     ]
    },
    {
     "name": "stdin",
     "output_type": "stream",
     "text": [
      "Provide label: Meet\n"
     ]
    },
    {
     "name": "stdout",
     "output_type": "stream",
     "text": [
      "./data/rendered_video/internal_resource_2337_fps10/internal_resource_3878_3907.avi\n"
     ]
    },
    {
     "name": "stdin",
     "output_type": "stream",
     "text": [
      "Provide label: Meet\n"
     ]
    },
    {
     "name": "stdout",
     "output_type": "stream",
     "text": [
      "./data/rendered_video/internal_resource_2337_fps10/internal_resource_3920_3948.avi\n"
     ]
    },
    {
     "name": "stdin",
     "output_type": "stream",
     "text": [
      "Provide label: Meet\n"
     ]
    },
    {
     "name": "stdout",
     "output_type": "stream",
     "text": [
      "./data/rendered_video/internal_resource_2337_fps10/internal_resource_3960_3987.avi\n"
     ]
    },
    {
     "name": "stdin",
     "output_type": "stream",
     "text": [
      "Provide label: Meet\n"
     ]
    },
    {
     "name": "stdout",
     "output_type": "stream",
     "text": [
      "./data/rendered_video/internal_resource_2337_fps10/internal_resource_4000_4028.avi\n"
     ]
    },
    {
     "name": "stdin",
     "output_type": "stream",
     "text": [
      "Provide label: Meet\n"
     ]
    },
    {
     "name": "stdout",
     "output_type": "stream",
     "text": [
      "./data/rendered_video/internal_resource_2337_fps10/internal_resource_4041_4071.avi\n"
     ]
    },
    {
     "name": "stdin",
     "output_type": "stream",
     "text": [
      "Provide label: Meet\n"
     ]
    },
    {
     "name": "stdout",
     "output_type": "stream",
     "text": [
      "./data/rendered_video/internal_resource_2337_fps10/internal_resource_4082_4110.avi\n"
     ]
    },
    {
     "name": "stdin",
     "output_type": "stream",
     "text": [
      "Provide label: Meet\n"
     ]
    },
    {
     "name": "stdout",
     "output_type": "stream",
     "text": [
      "./data/rendered_video/internal_resource_2337_fps10/internal_resource_4122_4149.avi\n"
     ]
    },
    {
     "name": "stdin",
     "output_type": "stream",
     "text": [
      "Provide label: Meet\n"
     ]
    },
    {
     "name": "stdout",
     "output_type": "stream",
     "text": [
      "./data/rendered_video/internal_resource_2337_fps10/internal_resource_4161_4190.avi\n"
     ]
    },
    {
     "name": "stdin",
     "output_type": "stream",
     "text": [
      "Provide label: Meet\n"
     ]
    },
    {
     "name": "stdout",
     "output_type": "stream",
     "text": [
      "./data/rendered_video/internal_resource_2337_fps10/internal_resource_4201_4230.avi\n"
     ]
    },
    {
     "name": "stdin",
     "output_type": "stream",
     "text": [
      "Provide label: Meet\n"
     ]
    },
    {
     "name": "stdout",
     "output_type": "stream",
     "text": [
      "./data/rendered_video/internal_resource_2337_fps10/internal_resource_4241_4269.avi\n"
     ]
    },
    {
     "name": "stdin",
     "output_type": "stream",
     "text": [
      "Provide label: Meet\n"
     ]
    },
    {
     "name": "stdout",
     "output_type": "stream",
     "text": [
      "./data/rendered_video/internal_resource_2337_fps10/internal_resource_4280_4309.avi\n"
     ]
    },
    {
     "name": "stdin",
     "output_type": "stream",
     "text": [
      "Provide label: Meet\n"
     ]
    },
    {
     "name": "stdout",
     "output_type": "stream",
     "text": [
      "./data/rendered_video/internal_resource_2337_fps10/internal_resource_4321_4350.avi\n"
     ]
    },
    {
     "name": "stdin",
     "output_type": "stream",
     "text": [
      "Provide label: Meet\n"
     ]
    },
    {
     "name": "stdout",
     "output_type": "stream",
     "text": [
      "./data/rendered_video/internal_resource_2337_fps10/internal_resource_4362_4391.avi\n"
     ]
    },
    {
     "name": "stdin",
     "output_type": "stream",
     "text": [
      "Provide label: Meet\n"
     ]
    },
    {
     "name": "stdout",
     "output_type": "stream",
     "text": [
      "./data/rendered_video/internal_resource_2337_fps10/internal_resource_4402_4432.avi\n"
     ]
    },
    {
     "name": "stdin",
     "output_type": "stream",
     "text": [
      "Provide label: Meet\n"
     ]
    },
    {
     "name": "stdout",
     "output_type": "stream",
     "text": [
      "./data/rendered_video/internal_resource_2337_fps10/internal_resource_4442_4472.avi\n"
     ]
    },
    {
     "name": "stdin",
     "output_type": "stream",
     "text": [
      "Provide label: Meet\n"
     ]
    },
    {
     "name": "stdout",
     "output_type": "stream",
     "text": [
      "./data/rendered_video/internal_resource_2337_fps10/internal_resource_4482_4511.avi\n"
     ]
    },
    {
     "name": "stdin",
     "output_type": "stream",
     "text": [
      "Provide label: Meet\n"
     ]
    },
    {
     "name": "stdout",
     "output_type": "stream",
     "text": [
      "./data/rendered_video/internal_resource_2337_fps10/internal_resource_4522_4550.avi\n"
     ]
    },
    {
     "name": "stdin",
     "output_type": "stream",
     "text": [
      "Provide label: Meet\n"
     ]
    },
    {
     "name": "stdout",
     "output_type": "stream",
     "text": [
      "./data/rendered_video/internal_resource_2337_fps10/internal_resource_4561_4589.avi\n"
     ]
    },
    {
     "name": "stdin",
     "output_type": "stream",
     "text": [
      "Provide label: Meet\n"
     ]
    },
    {
     "name": "stdout",
     "output_type": "stream",
     "text": [
      "./data/rendered_video/internal_resource_2337_fps10/internal_resource_4601_4630.avi\n"
     ]
    },
    {
     "name": "stdin",
     "output_type": "stream",
     "text": [
      "Provide label: Meet\n"
     ]
    },
    {
     "name": "stdout",
     "output_type": "stream",
     "text": [
      "./data/rendered_video/internal_resource_2337_fps10/internal_resource_4643_4672.avi\n"
     ]
    },
    {
     "name": "stdin",
     "output_type": "stream",
     "text": [
      "Provide label: Meet\n"
     ]
    },
    {
     "name": "stdout",
     "output_type": "stream",
     "text": [
      "./data/rendered_video/internal_resource_2337_fps10/internal_resource_4684_4713.avi\n"
     ]
    },
    {
     "name": "stdin",
     "output_type": "stream",
     "text": [
      "Provide label: Meet\n"
     ]
    },
    {
     "name": "stdout",
     "output_type": "stream",
     "text": [
      "./data/rendered_video/internal_resource_2337_fps10/internal_resource_4726_4759.avi\n"
     ]
    },
    {
     "name": "stdin",
     "output_type": "stream",
     "text": [
      "Provide label: Meet\n"
     ]
    },
    {
     "name": "stdout",
     "output_type": "stream",
     "text": [
      "./data/rendered_video/internal_resource_2337_fps10/internal_resource_4769_4798.avi\n"
     ]
    },
    {
     "name": "stdin",
     "output_type": "stream",
     "text": [
      "Provide label: Meet\n"
     ]
    },
    {
     "name": "stdout",
     "output_type": "stream",
     "text": [
      "./data/rendered_video/internal_resource_2337_fps10/internal_resource_4808_4832.avi\n"
     ]
    },
    {
     "name": "stdin",
     "output_type": "stream",
     "text": [
      "Provide label: You\n"
     ]
    },
    {
     "name": "stdout",
     "output_type": "stream",
     "text": [
      "./data/rendered_video/internal_resource_2337_fps10/internal_resource_4844_4873.avi\n"
     ]
    },
    {
     "name": "stdin",
     "output_type": "stream",
     "text": [
      "Provide label: You\n"
     ]
    },
    {
     "name": "stdout",
     "output_type": "stream",
     "text": [
      "./data/rendered_video/internal_resource_2337_fps10/internal_resource_4886_4912.avi\n"
     ]
    },
    {
     "name": "stdin",
     "output_type": "stream",
     "text": [
      "Provide label: You\n"
     ]
    },
    {
     "name": "stdout",
     "output_type": "stream",
     "text": [
      "./data/rendered_video/internal_resource_2337_fps10/internal_resource_4925_4951.avi\n"
     ]
    },
    {
     "name": "stdin",
     "output_type": "stream",
     "text": [
      "Provide label: You\n"
     ]
    },
    {
     "name": "stdout",
     "output_type": "stream",
     "text": [
      "./data/rendered_video/internal_resource_2337_fps10/internal_resource_4963_4989.avi\n"
     ]
    },
    {
     "name": "stdin",
     "output_type": "stream",
     "text": [
      "Provide label: You\n"
     ]
    },
    {
     "name": "stdout",
     "output_type": "stream",
     "text": [
      "./data/rendered_video/internal_resource_2337_fps10/internal_resource_5001_5026.avi\n"
     ]
    },
    {
     "name": "stdin",
     "output_type": "stream",
     "text": [
      "Provide label: You\n"
     ]
    },
    {
     "name": "stdout",
     "output_type": "stream",
     "text": [
      "./data/rendered_video/internal_resource_2337_fps10/internal_resource_5038_5063.avi\n"
     ]
    },
    {
     "name": "stdin",
     "output_type": "stream",
     "text": [
      "Provide label: You\n"
     ]
    },
    {
     "name": "stdout",
     "output_type": "stream",
     "text": [
      "./data/rendered_video/internal_resource_2337_fps10/internal_resource_5075_5100.avi\n"
     ]
    },
    {
     "name": "stdin",
     "output_type": "stream",
     "text": [
      "Provide label: You\n"
     ]
    },
    {
     "name": "stdout",
     "output_type": "stream",
     "text": [
      "./data/rendered_video/internal_resource_2337_fps10/internal_resource_5112_5137.avi\n"
     ]
    },
    {
     "name": "stdin",
     "output_type": "stream",
     "text": [
      "Provide label: You\n"
     ]
    },
    {
     "name": "stdout",
     "output_type": "stream",
     "text": [
      "./data/rendered_video/internal_resource_2337_fps10/internal_resource_5148_5172.avi\n"
     ]
    },
    {
     "name": "stdin",
     "output_type": "stream",
     "text": [
      "Provide label: You\n"
     ]
    },
    {
     "name": "stdout",
     "output_type": "stream",
     "text": [
      "./data/rendered_video/internal_resource_2337_fps10/internal_resource_5184_5208.avi\n"
     ]
    },
    {
     "name": "stdin",
     "output_type": "stream",
     "text": [
      "Provide label: You\n"
     ]
    },
    {
     "name": "stdout",
     "output_type": "stream",
     "text": [
      "./data/rendered_video/internal_resource_2337_fps10/internal_resource_5219_5245.avi\n"
     ]
    },
    {
     "name": "stdin",
     "output_type": "stream",
     "text": [
      "Provide label: You\n"
     ]
    },
    {
     "name": "stdout",
     "output_type": "stream",
     "text": [
      "./data/rendered_video/internal_resource_2337_fps10/internal_resource_5256_5282.avi\n"
     ]
    },
    {
     "name": "stdin",
     "output_type": "stream",
     "text": [
      "Provide label: You\n"
     ]
    },
    {
     "name": "stdout",
     "output_type": "stream",
     "text": [
      "./data/rendered_video/internal_resource_2337_fps10/internal_resource_5291_5318.avi\n"
     ]
    },
    {
     "name": "stdin",
     "output_type": "stream",
     "text": [
      "Provide label: You\n"
     ]
    },
    {
     "name": "stdout",
     "output_type": "stream",
     "text": [
      "./data/rendered_video/internal_resource_2337_fps10/internal_resource_5328_5355.avi\n"
     ]
    },
    {
     "name": "stdin",
     "output_type": "stream",
     "text": [
      "Provide label: You\n"
     ]
    },
    {
     "name": "stdout",
     "output_type": "stream",
     "text": [
      "./data/rendered_video/internal_resource_2337_fps10/internal_resource_5367_5392.avi\n"
     ]
    },
    {
     "name": "stdin",
     "output_type": "stream",
     "text": [
      "Provide label: You\n"
     ]
    },
    {
     "name": "stdout",
     "output_type": "stream",
     "text": [
      "./data/rendered_video/internal_resource_2337_fps10/internal_resource_5403_5430.avi\n"
     ]
    },
    {
     "name": "stdin",
     "output_type": "stream",
     "text": [
      "Provide label: You\n"
     ]
    },
    {
     "name": "stdout",
     "output_type": "stream",
     "text": [
      "./data/rendered_video/internal_resource_2337_fps10/internal_resource_5441_5467.avi\n"
     ]
    },
    {
     "name": "stdin",
     "output_type": "stream",
     "text": [
      "Provide label: You\n"
     ]
    },
    {
     "name": "stdout",
     "output_type": "stream",
     "text": [
      "./data/rendered_video/internal_resource_2337_fps10/internal_resource_5478_5506.avi\n"
     ]
    },
    {
     "name": "stdin",
     "output_type": "stream",
     "text": [
      "Provide label: You\n"
     ]
    },
    {
     "name": "stdout",
     "output_type": "stream",
     "text": [
      "./data/rendered_video/internal_resource_2337_fps10/internal_resource_5516_5540.avi\n"
     ]
    },
    {
     "name": "stdin",
     "output_type": "stream",
     "text": [
      "Provide label: You\n"
     ]
    },
    {
     "name": "stdout",
     "output_type": "stream",
     "text": [
      "./data/rendered_video/internal_resource_2337_fps10/internal_resource_5552_5578.avi\n"
     ]
    },
    {
     "name": "stdin",
     "output_type": "stream",
     "text": [
      "Provide label: You\n"
     ]
    },
    {
     "name": "stdout",
     "output_type": "stream",
     "text": [
      "./data/rendered_video/internal_resource_2337_fps10/internal_resource_5589_5590.avi\n"
     ]
    },
    {
     "name": "stdin",
     "output_type": "stream",
     "text": [
      "Provide label: ignore\n"
     ]
    },
    {
     "name": "stdout",
     "output_type": "stream",
     "text": [
      "./data/rendered_video/internal_resource_2337_fps10/internal_resource_5591_5616.avi\n"
     ]
    },
    {
     "name": "stdin",
     "output_type": "stream",
     "text": [
      "Provide label: You\n"
     ]
    },
    {
     "name": "stdout",
     "output_type": "stream",
     "text": [
      "./data/rendered_video/internal_resource_2337_fps10/internal_resource_5627_5655.avi\n"
     ]
    },
    {
     "name": "stdin",
     "output_type": "stream",
     "text": [
      "Provide label: You\n"
     ]
    },
    {
     "name": "stdout",
     "output_type": "stream",
     "text": [
      "./data/rendered_video/internal_resource_2337_fps10/internal_resource_5667_5693.avi\n"
     ]
    },
    {
     "name": "stdin",
     "output_type": "stream",
     "text": [
      "Provide label: You\n"
     ]
    },
    {
     "name": "stdout",
     "output_type": "stream",
     "text": [
      "./data/rendered_video/internal_resource_2337_fps10/internal_resource_5703_5732.avi\n"
     ]
    },
    {
     "name": "stdin",
     "output_type": "stream",
     "text": [
      "Provide label: You\n"
     ]
    },
    {
     "name": "stdout",
     "output_type": "stream",
     "text": [
      "./data/rendered_video/internal_resource_2337_fps10/internal_resource_5742_5771.avi\n"
     ]
    },
    {
     "name": "stdin",
     "output_type": "stream",
     "text": [
      "Provide label: You\n"
     ]
    },
    {
     "name": "stdout",
     "output_type": "stream",
     "text": [
      "./data/rendered_video/internal_resource_2337_fps10/internal_resource_5781_5809.avi\n"
     ]
    },
    {
     "name": "stdin",
     "output_type": "stream",
     "text": [
      "Provide label: You\n"
     ]
    },
    {
     "name": "stdout",
     "output_type": "stream",
     "text": [
      "./data/rendered_video/internal_resource_2337_fps10/internal_resource_5819_5845.avi\n"
     ]
    },
    {
     "name": "stdin",
     "output_type": "stream",
     "text": [
      "Provide label: You\n"
     ]
    },
    {
     "name": "stdout",
     "output_type": "stream",
     "text": [
      "./data/rendered_video/internal_resource_2337_fps10/internal_resource_5856_5883.avi\n"
     ]
    },
    {
     "name": "stdin",
     "output_type": "stream",
     "text": [
      "Provide label: You\n"
     ]
    },
    {
     "name": "stdout",
     "output_type": "stream",
     "text": [
      "./data/rendered_video/internal_resource_2337_fps10/internal_resource_5895_5921.avi\n"
     ]
    },
    {
     "name": "stdin",
     "output_type": "stream",
     "text": [
      "Provide label: You\n"
     ]
    },
    {
     "name": "stdout",
     "output_type": "stream",
     "text": [
      "./data/rendered_video/internal_resource_2337_fps10/internal_resource_5933_5962.avi\n"
     ]
    },
    {
     "name": "stdin",
     "output_type": "stream",
     "text": [
      "Provide label: You\n"
     ]
    },
    {
     "name": "stdout",
     "output_type": "stream",
     "text": [
      "./data/rendered_video/internal_resource_2337_fps10/internal_resource_5972_5999.avi\n"
     ]
    },
    {
     "name": "stdin",
     "output_type": "stream",
     "text": [
      "Provide label: You\n"
     ]
    },
    {
     "name": "stdout",
     "output_type": "stream",
     "text": [
      "./data/rendered_video/internal_resource_2337_fps10/internal_resource_6009_6037.avi\n"
     ]
    },
    {
     "name": "stdin",
     "output_type": "stream",
     "text": [
      "Provide label: You\n"
     ]
    },
    {
     "name": "stdout",
     "output_type": "stream",
     "text": [
      "./data/rendered_video/internal_resource_2337_fps10/internal_resource_6048_6077.avi\n"
     ]
    },
    {
     "name": "stdin",
     "output_type": "stream",
     "text": [
      "Provide label: You\n"
     ]
    },
    {
     "name": "stdout",
     "output_type": "stream",
     "text": [
      "./data/rendered_video/internal_resource_2337_fps10/internal_resource_6087_6115.avi\n"
     ]
    },
    {
     "name": "stdin",
     "output_type": "stream",
     "text": [
      "Provide label: You\n"
     ]
    },
    {
     "name": "stdout",
     "output_type": "stream",
     "text": [
      "./data/rendered_video/internal_resource_2337_fps10/internal_resource_6127_6155.avi\n"
     ]
    },
    {
     "name": "stdin",
     "output_type": "stream",
     "text": [
      "Provide label: You\n"
     ]
    },
    {
     "name": "stdout",
     "output_type": "stream",
     "text": [
      "./data/rendered_video/internal_resource_2337_fps10/internal_resource_6167_6196.avi\n"
     ]
    },
    {
     "name": "stdin",
     "output_type": "stream",
     "text": [
      "Provide label: You\n"
     ]
    },
    {
     "name": "stdout",
     "output_type": "stream",
     "text": [
      "./data/rendered_video/internal_resource_2337_fps10/internal_resource_6207_6236.avi\n"
     ]
    },
    {
     "name": "stdin",
     "output_type": "stream",
     "text": [
      "Provide label: You\n"
     ]
    },
    {
     "name": "stdout",
     "output_type": "stream",
     "text": [
      "./data/rendered_video/internal_resource_2337_fps10/internal_resource_6246_6275.avi\n"
     ]
    },
    {
     "name": "stdin",
     "output_type": "stream",
     "text": [
      "Provide label: You\n"
     ]
    },
    {
     "name": "stdout",
     "output_type": "stream",
     "text": [
      "./data/rendered_video/internal_resource_2337_fps10/internal_resource_6287_6319.avi\n"
     ]
    },
    {
     "name": "stdin",
     "output_type": "stream",
     "text": [
      "Provide label: You\n"
     ]
    },
    {
     "name": "stdout",
     "output_type": "stream",
     "text": [
      "./data/rendered_video/internal_resource_2337_fps10/internal_resource_6328_6357.avi\n"
     ]
    },
    {
     "name": "stdin",
     "output_type": "stream",
     "text": [
      "Provide label: You\n"
     ]
    },
    {
     "name": "stdout",
     "output_type": "stream",
     "text": [
      "./data/rendered_video/internal_resource_2337_fps10/internal_resource_6368_6398.avi\n"
     ]
    },
    {
     "name": "stdin",
     "output_type": "stream",
     "text": [
      "Provide label: You\n"
     ]
    },
    {
     "name": "stdout",
     "output_type": "stream",
     "text": [
      "./data/rendered_video/internal_resource_2337_fps10/internal_resource_6409_6436.avi\n"
     ]
    },
    {
     "name": "stdin",
     "output_type": "stream",
     "text": [
      "Provide label: You\n"
     ]
    },
    {
     "name": "stdout",
     "output_type": "stream",
     "text": [
      "./data/rendered_video/internal_resource_2337_fps10/internal_resource_6448_6475.avi\n"
     ]
    },
    {
     "name": "stdin",
     "output_type": "stream",
     "text": [
      "Provide label: You\n"
     ]
    },
    {
     "name": "stdout",
     "output_type": "stream",
     "text": [
      "./data/rendered_video/internal_resource_2337_fps10/internal_resource_6486_6514.avi\n"
     ]
    },
    {
     "name": "stdin",
     "output_type": "stream",
     "text": [
      "Provide label: You\n"
     ]
    },
    {
     "name": "stdout",
     "output_type": "stream",
     "text": [
      "./data/rendered_video/internal_resource_2337_fps10/internal_resource_6525_6551.avi\n"
     ]
    },
    {
     "name": "stdin",
     "output_type": "stream",
     "text": [
      "Provide label: You\n"
     ]
    },
    {
     "name": "stdout",
     "output_type": "stream",
     "text": [
      "./data/rendered_video/internal_resource_2337_fps10/internal_resource_6558_6581.avi\n"
     ]
    },
    {
     "name": "stdin",
     "output_type": "stream",
     "text": [
      "Provide label: Nice\n"
     ]
    },
    {
     "name": "stdout",
     "output_type": "stream",
     "text": [
      "./data/rendered_video/internal_resource_2337_fps10/internal_resource_6592_6619.avi\n"
     ]
    },
    {
     "name": "stdin",
     "output_type": "stream",
     "text": [
      "Provide label: Nice\n"
     ]
    },
    {
     "name": "stdout",
     "output_type": "stream",
     "text": [
      "./data/rendered_video/internal_resource_2337_fps10/internal_resource_6630_6655.avi\n"
     ]
    },
    {
     "name": "stdin",
     "output_type": "stream",
     "text": [
      "Provide label: Nice\n"
     ]
    },
    {
     "name": "stdout",
     "output_type": "stream",
     "text": [
      "./data/rendered_video/internal_resource_2337_fps10/internal_resource_6667_6691.avi\n"
     ]
    },
    {
     "name": "stdin",
     "output_type": "stream",
     "text": [
      "Provide label: Nice\n"
     ]
    },
    {
     "name": "stdout",
     "output_type": "stream",
     "text": [
      "./data/rendered_video/internal_resource_2337_fps10/internal_resource_6702_6728.avi\n"
     ]
    },
    {
     "name": "stdin",
     "output_type": "stream",
     "text": [
      "Provide label: Nice\n"
     ]
    },
    {
     "name": "stdout",
     "output_type": "stream",
     "text": [
      "./data/rendered_video/internal_resource_2337_fps10/internal_resource_6738_6762.avi\n"
     ]
    },
    {
     "name": "stdin",
     "output_type": "stream",
     "text": [
      "Provide label: Nice\n"
     ]
    },
    {
     "name": "stdout",
     "output_type": "stream",
     "text": [
      "./data/rendered_video/internal_resource_2337_fps10/internal_resource_6773_6798.avi\n"
     ]
    },
    {
     "name": "stdin",
     "output_type": "stream",
     "text": [
      "Provide label: Nice\n"
     ]
    },
    {
     "name": "stdout",
     "output_type": "stream",
     "text": [
      "./data/rendered_video/internal_resource_2337_fps10/internal_resource_6813_6838.avi\n"
     ]
    },
    {
     "name": "stdin",
     "output_type": "stream",
     "text": [
      "Provide label: Nice\n"
     ]
    },
    {
     "name": "stdout",
     "output_type": "stream",
     "text": [
      "./data/rendered_video/internal_resource_2337_fps10/internal_resource_6849_6874.avi\n"
     ]
    },
    {
     "name": "stdin",
     "output_type": "stream",
     "text": [
      "Provide label: Nice\n"
     ]
    },
    {
     "name": "stdout",
     "output_type": "stream",
     "text": [
      "./data/rendered_video/internal_resource_2337_fps10/internal_resource_6886_6912.avi\n"
     ]
    },
    {
     "name": "stdin",
     "output_type": "stream",
     "text": [
      "Provide label: Nice\n"
     ]
    },
    {
     "name": "stdout",
     "output_type": "stream",
     "text": [
      "./data/rendered_video/internal_resource_2337_fps10/internal_resource_6922_6947.avi\n"
     ]
    },
    {
     "name": "stdin",
     "output_type": "stream",
     "text": [
      "Provide label: Nice\n"
     ]
    },
    {
     "name": "stdout",
     "output_type": "stream",
     "text": [
      "./data/rendered_video/internal_resource_2337_fps10/internal_resource_6957_6985.avi\n"
     ]
    },
    {
     "name": "stdin",
     "output_type": "stream",
     "text": [
      "Provide label: Nice\n"
     ]
    },
    {
     "name": "stdout",
     "output_type": "stream",
     "text": [
      "./data/rendered_video/internal_resource_2337_fps10/internal_resource_6996_7021.avi\n"
     ]
    },
    {
     "name": "stdin",
     "output_type": "stream",
     "text": [
      "Provide label: Nice\n"
     ]
    },
    {
     "name": "stdout",
     "output_type": "stream",
     "text": [
      "./data/rendered_video/internal_resource_2337_fps10/internal_resource_7032_7060.avi\n"
     ]
    },
    {
     "name": "stdin",
     "output_type": "stream",
     "text": [
      "Provide label: Nice\n"
     ]
    },
    {
     "name": "stdout",
     "output_type": "stream",
     "text": [
      "./data/rendered_video/internal_resource_2337_fps10/internal_resource_7071_7099.avi\n"
     ]
    },
    {
     "name": "stdin",
     "output_type": "stream",
     "text": [
      "Provide label: Nice\n"
     ]
    },
    {
     "name": "stdout",
     "output_type": "stream",
     "text": [
      "./data/rendered_video/internal_resource_2337_fps10/internal_resource_7111_7138.avi\n"
     ]
    },
    {
     "name": "stdin",
     "output_type": "stream",
     "text": [
      "Provide label: Nice\n"
     ]
    },
    {
     "name": "stdout",
     "output_type": "stream",
     "text": [
      "./data/rendered_video/internal_resource_2337_fps10/internal_resource_7149_7174.avi\n"
     ]
    },
    {
     "name": "stdin",
     "output_type": "stream",
     "text": [
      "Provide label: Nice\n"
     ]
    },
    {
     "name": "stdout",
     "output_type": "stream",
     "text": [
      "./data/rendered_video/internal_resource_2337_fps10/internal_resource_7184_7211.avi\n"
     ]
    },
    {
     "name": "stdin",
     "output_type": "stream",
     "text": [
      "Provide label: Nice\n"
     ]
    },
    {
     "name": "stdout",
     "output_type": "stream",
     "text": [
      "./data/rendered_video/internal_resource_2337_fps10/internal_resource_7223_7249.avi\n"
     ]
    },
    {
     "name": "stdin",
     "output_type": "stream",
     "text": [
      "Provide label: Nice\n"
     ]
    },
    {
     "name": "stdout",
     "output_type": "stream",
     "text": [
      "./data/rendered_video/internal_resource_2337_fps10/internal_resource_7262_7289.avi\n"
     ]
    },
    {
     "name": "stdin",
     "output_type": "stream",
     "text": [
      "Provide label: Nice\n"
     ]
    },
    {
     "name": "stdout",
     "output_type": "stream",
     "text": [
      "./data/rendered_video/internal_resource_2337_fps10/internal_resource_7301_7326.avi\n"
     ]
    },
    {
     "name": "stdin",
     "output_type": "stream",
     "text": [
      "Provide label: Nice\n"
     ]
    },
    {
     "name": "stdout",
     "output_type": "stream",
     "text": [
      "./data/rendered_video/internal_resource_2337_fps10/internal_resource_7337_7364.avi\n"
     ]
    },
    {
     "name": "stdin",
     "output_type": "stream",
     "text": [
      "Provide label: Nice\n"
     ]
    },
    {
     "name": "stdout",
     "output_type": "stream",
     "text": [
      "./data/rendered_video/internal_resource_2337_fps10/internal_resource_7374_7404.avi\n"
     ]
    },
    {
     "name": "stdin",
     "output_type": "stream",
     "text": [
      "Provide label: Nice\n"
     ]
    },
    {
     "name": "stdout",
     "output_type": "stream",
     "text": [
      "./data/rendered_video/internal_resource_2337_fps10/internal_resource_7415_7448.avi\n"
     ]
    },
    {
     "name": "stdin",
     "output_type": "stream",
     "text": [
      "Provide label: Nice\n"
     ]
    },
    {
     "name": "stdout",
     "output_type": "stream",
     "text": [
      "./data/rendered_video/internal_resource_2337_fps10/internal_resource_7460_7488.avi\n"
     ]
    },
    {
     "name": "stdin",
     "output_type": "stream",
     "text": [
      "Provide label: Nice\n"
     ]
    },
    {
     "name": "stdout",
     "output_type": "stream",
     "text": [
      "./data/rendered_video/internal_resource_2337_fps10/internal_resource_7498_7523.avi\n"
     ]
    },
    {
     "name": "stdin",
     "output_type": "stream",
     "text": [
      "Provide label: Nice\n"
     ]
    },
    {
     "name": "stdout",
     "output_type": "stream",
     "text": [
      "./data/rendered_video/internal_resource_2337_fps10/internal_resource_7536_7563.avi\n"
     ]
    },
    {
     "name": "stdin",
     "output_type": "stream",
     "text": [
      "Provide label: Nice\n"
     ]
    },
    {
     "name": "stdout",
     "output_type": "stream",
     "text": [
      "./data/rendered_video/internal_resource_2337_fps10/internal_resource_7573_7601.avi\n"
     ]
    },
    {
     "name": "stdin",
     "output_type": "stream",
     "text": [
      "Provide label: Nice\n"
     ]
    },
    {
     "name": "stdout",
     "output_type": "stream",
     "text": [
      "./data/rendered_video/internal_resource_2337_fps10/internal_resource_7614_7638.avi\n"
     ]
    },
    {
     "name": "stdin",
     "output_type": "stream",
     "text": [
      "Provide label: You\n"
     ]
    },
    {
     "name": "stdout",
     "output_type": "stream",
     "text": [
      "./data/rendered_video/internal_resource_2337_fps10/internal_resource_7648_7677.avi\n"
     ]
    },
    {
     "name": "stdin",
     "output_type": "stream",
     "text": [
      "Provide label: You\n"
     ]
    },
    {
     "name": "stdout",
     "output_type": "stream",
     "text": [
      "./data/rendered_video/internal_resource_2337_fps10/internal_resource_7686_7716.avi\n"
     ]
    },
    {
     "name": "stdin",
     "output_type": "stream",
     "text": [
      "Provide label: You\n"
     ]
    },
    {
     "name": "stdout",
     "output_type": "stream",
     "text": [
      "./data/rendered_video/internal_resource_2337_fps10/internal_resource_7723_7752.avi\n"
     ]
    },
    {
     "name": "stdin",
     "output_type": "stream",
     "text": [
      "Provide label: You\n"
     ]
    },
    {
     "name": "stdout",
     "output_type": "stream",
     "text": [
      "./data/rendered_video/internal_resource_2337_fps10/internal_resource_7762_7788.avi\n"
     ]
    },
    {
     "name": "stdin",
     "output_type": "stream",
     "text": [
      "Provide label: You\n"
     ]
    },
    {
     "name": "stdout",
     "output_type": "stream",
     "text": [
      "./data/rendered_video/internal_resource_2337_fps10/internal_resource_7797_7823.avi\n"
     ]
    },
    {
     "name": "stdin",
     "output_type": "stream",
     "text": [
      "Provide label: You\n"
     ]
    },
    {
     "name": "stdout",
     "output_type": "stream",
     "text": [
      "./data/rendered_video/internal_resource_2337_fps10/internal_resource_7832_7860.avi\n"
     ]
    },
    {
     "name": "stdin",
     "output_type": "stream",
     "text": [
      "Provide label: You\n"
     ]
    },
    {
     "name": "stdout",
     "output_type": "stream",
     "text": [
      "./data/rendered_video/internal_resource_2337_fps10/internal_resource_7869_7896.avi\n"
     ]
    },
    {
     "name": "stdin",
     "output_type": "stream",
     "text": [
      "Provide label: You\n"
     ]
    },
    {
     "name": "stdout",
     "output_type": "stream",
     "text": [
      "./data/rendered_video/internal_resource_2337_fps10/internal_resource_7906_7935.avi\n"
     ]
    },
    {
     "name": "stdin",
     "output_type": "stream",
     "text": [
      "Provide label: You\n"
     ]
    },
    {
     "name": "stdout",
     "output_type": "stream",
     "text": [
      "./data/rendered_video/internal_resource_2337_fps10/internal_resource_7944_7973.avi\n"
     ]
    },
    {
     "name": "stdin",
     "output_type": "stream",
     "text": [
      "Provide label: You\n"
     ]
    },
    {
     "name": "stdout",
     "output_type": "stream",
     "text": [
      "./data/rendered_video/internal_resource_2337_fps10/internal_resource_7983_8011.avi\n"
     ]
    },
    {
     "name": "stdin",
     "output_type": "stream",
     "text": [
      "Provide label: You\n"
     ]
    },
    {
     "name": "stdout",
     "output_type": "stream",
     "text": [
      "./data/rendered_video/internal_resource_2337_fps10/internal_resource_8021_8049.avi\n"
     ]
    },
    {
     "name": "stdin",
     "output_type": "stream",
     "text": [
      "Provide label: You\n"
     ]
    },
    {
     "name": "stdout",
     "output_type": "stream",
     "text": [
      "./data/rendered_video/internal_resource_2337_fps10/internal_resource_8059_8087.avi\n"
     ]
    },
    {
     "name": "stdin",
     "output_type": "stream",
     "text": [
      "Provide label: You\n"
     ]
    },
    {
     "name": "stdout",
     "output_type": "stream",
     "text": [
      "./data/rendered_video/internal_resource_2337_fps10/internal_resource_8097_8124.avi\n"
     ]
    },
    {
     "name": "stdin",
     "output_type": "stream",
     "text": [
      "Provide label: You\n"
     ]
    },
    {
     "name": "stdout",
     "output_type": "stream",
     "text": [
      "./data/rendered_video/internal_resource_2337_fps10/internal_resource_8133_8157.avi\n"
     ]
    },
    {
     "name": "stdin",
     "output_type": "stream",
     "text": [
      "Provide label: My\n"
     ]
    },
    {
     "name": "stdout",
     "output_type": "stream",
     "text": [
      "./data/rendered_video/internal_resource_2337_fps10/internal_resource_8167_8195.avi\n"
     ]
    },
    {
     "name": "stdin",
     "output_type": "stream",
     "text": [
      "Provide label: My\n"
     ]
    },
    {
     "name": "stdout",
     "output_type": "stream",
     "text": [
      "./data/rendered_video/internal_resource_2337_fps10/internal_resource_8207_8238.avi\n"
     ]
    },
    {
     "name": "stdin",
     "output_type": "stream",
     "text": [
      "Provide label: My\n"
     ]
    },
    {
     "name": "stdout",
     "output_type": "stream",
     "text": [
      "./data/rendered_video/internal_resource_2337_fps10/internal_resource_8248_8275.avi\n"
     ]
    },
    {
     "name": "stdin",
     "output_type": "stream",
     "text": [
      "Provide label: My\n"
     ]
    },
    {
     "name": "stdout",
     "output_type": "stream",
     "text": [
      "./data/rendered_video/internal_resource_2337_fps10/internal_resource_8284_8311.avi\n"
     ]
    },
    {
     "name": "stdin",
     "output_type": "stream",
     "text": [
      "Provide label: My\n"
     ]
    },
    {
     "name": "stdout",
     "output_type": "stream",
     "text": [
      "./data/rendered_video/internal_resource_2337_fps10/internal_resource_8321_8346.avi\n"
     ]
    },
    {
     "name": "stdin",
     "output_type": "stream",
     "text": [
      "Provide label: My\n"
     ]
    },
    {
     "name": "stdout",
     "output_type": "stream",
     "text": [
      "./data/rendered_video/internal_resource_2337_fps10/internal_resource_8355_8381.avi\n"
     ]
    },
    {
     "name": "stdin",
     "output_type": "stream",
     "text": [
      "Provide label: My\n"
     ]
    },
    {
     "name": "stdout",
     "output_type": "stream",
     "text": [
      "./data/rendered_video/internal_resource_2337_fps10/internal_resource_8390_8414.avi\n"
     ]
    },
    {
     "name": "stdin",
     "output_type": "stream",
     "text": [
      "Provide label: My\n"
     ]
    },
    {
     "name": "stdout",
     "output_type": "stream",
     "text": [
      "./data/rendered_video/internal_resource_2337_fps10/internal_resource_8422_8448.avi\n"
     ]
    },
    {
     "name": "stdin",
     "output_type": "stream",
     "text": [
      "Provide label: My\n"
     ]
    },
    {
     "name": "stdout",
     "output_type": "stream",
     "text": [
      "./data/rendered_video/internal_resource_2337_fps10/internal_resource_8455_8480.avi\n"
     ]
    },
    {
     "name": "stdin",
     "output_type": "stream",
     "text": [
      "Provide label: My\n"
     ]
    },
    {
     "name": "stdout",
     "output_type": "stream",
     "text": [
      "./data/rendered_video/internal_resource_2337_fps10/internal_resource_8488_8513.avi\n"
     ]
    },
    {
     "name": "stdin",
     "output_type": "stream",
     "text": [
      "Provide label: My\n"
     ]
    },
    {
     "name": "stdout",
     "output_type": "stream",
     "text": [
      "./data/rendered_video/internal_resource_2337_fps10/internal_resource_8521_8547.avi\n"
     ]
    },
    {
     "name": "stdin",
     "output_type": "stream",
     "text": [
      "Provide label: My\n"
     ]
    },
    {
     "name": "stdout",
     "output_type": "stream",
     "text": [
      "./data/rendered_video/internal_resource_2337_fps10/internal_resource_8557_8582.avi\n"
     ]
    },
    {
     "name": "stdin",
     "output_type": "stream",
     "text": [
      "Provide label: My\n"
     ]
    },
    {
     "name": "stdout",
     "output_type": "stream",
     "text": [
      "./data/rendered_video/internal_resource_2337_fps10/internal_resource_8593_8617.avi\n"
     ]
    },
    {
     "name": "stdin",
     "output_type": "stream",
     "text": [
      "Provide label: My\n"
     ]
    },
    {
     "name": "stdout",
     "output_type": "stream",
     "text": [
      "./data/rendered_video/internal_resource_2337_fps10/internal_resource_8628_8652.avi\n"
     ]
    },
    {
     "name": "stdin",
     "output_type": "stream",
     "text": [
      "Provide label: My\n"
     ]
    },
    {
     "name": "stdout",
     "output_type": "stream",
     "text": [
      "./data/rendered_video/internal_resource_2337_fps10/internal_resource_8662_8685.avi\n"
     ]
    },
    {
     "name": "stdin",
     "output_type": "stream",
     "text": [
      "Provide label: Name\n"
     ]
    },
    {
     "name": "stdout",
     "output_type": "stream",
     "text": [
      "./data/rendered_video/internal_resource_2337_fps10/internal_resource_8700_8701.avi\n"
     ]
    },
    {
     "name": "stdin",
     "output_type": "stream",
     "text": [
      "Provide label: ignore\n"
     ]
    },
    {
     "name": "stdout",
     "output_type": "stream",
     "text": [
      "./data/rendered_video/internal_resource_2337_fps10/internal_resource_8702_8727.avi\n"
     ]
    },
    {
     "name": "stdin",
     "output_type": "stream",
     "text": [
      "Provide label: Name\n"
     ]
    },
    {
     "name": "stdout",
     "output_type": "stream",
     "text": [
      "./data/rendered_video/internal_resource_2337_fps10/internal_resource_8740_8768.avi\n"
     ]
    },
    {
     "name": "stdin",
     "output_type": "stream",
     "text": [
      "Provide label: Name\n"
     ]
    },
    {
     "name": "stdout",
     "output_type": "stream",
     "text": [
      "./data/rendered_video/internal_resource_2337_fps10/internal_resource_8781_8806.avi\n"
     ]
    },
    {
     "name": "stdin",
     "output_type": "stream",
     "text": [
      "Provide label: Name\n"
     ]
    },
    {
     "name": "stdout",
     "output_type": "stream",
     "text": [
      "./data/rendered_video/internal_resource_2337_fps10/internal_resource_8820_8868.avi\n"
     ]
    },
    {
     "name": "stdin",
     "output_type": "stream",
     "text": [
      "Provide label: Meet\n"
     ]
    },
    {
     "name": "stdout",
     "output_type": "stream",
     "text": [
      "./data/rendered_video/internal_resource_2337_fps10/internal_resource_8880_8931.avi\n"
     ]
    },
    {
     "name": "stdin",
     "output_type": "stream",
     "text": [
      "Provide label: Meet\n"
     ]
    },
    {
     "name": "stdout",
     "output_type": "stream",
     "text": [
      "./data/rendered_video/internal_resource_2337_fps10/internal_resource_8942_8989.avi\n"
     ]
    },
    {
     "name": "stdin",
     "output_type": "stream",
     "text": [
      "Provide label: Meet\n"
     ]
    },
    {
     "name": "stdout",
     "output_type": "stream",
     "text": [
      "./data/rendered_video/internal_resource_2337_fps10/internal_resource_8997_9044.avi\n"
     ]
    },
    {
     "name": "stdin",
     "output_type": "stream",
     "text": [
      "Provide label: Meet\n"
     ]
    },
    {
     "name": "stdout",
     "output_type": "stream",
     "text": [
      "./data/rendered_video/internal_resource_2337_fps10/internal_resource_9052_9091.avi\n"
     ]
    },
    {
     "name": "stdin",
     "output_type": "stream",
     "text": [
      "Provide label: See you around\n"
     ]
    },
    {
     "name": "stdout",
     "output_type": "stream",
     "text": [
      "./data/rendered_video/internal_resource_2337_fps10/internal_resource_9103_9143.avi\n"
     ]
    },
    {
     "name": "stdin",
     "output_type": "stream",
     "text": [
      "Provide label: See you around\n"
     ]
    },
    {
     "name": "stdout",
     "output_type": "stream",
     "text": [
      "./data/rendered_video/internal_resource_2337_fps10/internal_resource_9154_9193.avi\n"
     ]
    },
    {
     "name": "stdin",
     "output_type": "stream",
     "text": [
      "Provide label: See you around\n"
     ]
    },
    {
     "name": "stdout",
     "output_type": "stream",
     "text": [
      "./data/rendered_video/internal_resource_2337_fps10/internal_resource_9194_9195.avi\n"
     ]
    },
    {
     "name": "stdin",
     "output_type": "stream",
     "text": [
      "Provide label: ignore\n"
     ]
    },
    {
     "name": "stdout",
     "output_type": "stream",
     "text": [
      "./data/rendered_video/internal_resource_2337_fps10/internal_resource_9202_9245.avi\n"
     ]
    },
    {
     "name": "stdin",
     "output_type": "stream",
     "text": [
      "Provide label: See you around\n"
     ]
    },
    {
     "name": "stdout",
     "output_type": "stream",
     "text": [
      "./data/rendered_video/internal_resource_2337_fps10/internal_resource_9254_9295.avi\n"
     ]
    },
    {
     "name": "stdin",
     "output_type": "stream",
     "text": [
      "Provide label: See you around\n"
     ]
    },
    {
     "name": "stdout",
     "output_type": "stream",
     "text": [
      "./data/rendered_video/internal_resource_2337_fps10/internal_resource_9304_9347.avi\n"
     ]
    },
    {
     "name": "stdin",
     "output_type": "stream",
     "text": [
      "Provide label: See you around\n"
     ]
    },
    {
     "name": "stdout",
     "output_type": "stream",
     "text": [
      "./data/rendered_video/internal_resource_2337_fps10/internal_resource_9356_9395.avi\n"
     ]
    },
    {
     "name": "stdin",
     "output_type": "stream",
     "text": [
      "Provide label: See you around\n"
     ]
    },
    {
     "name": "stdout",
     "output_type": "stream",
     "text": [
      "./data/rendered_video/internal_resource_2337_fps10/internal_resource_9405_9445.avi\n"
     ]
    },
    {
     "name": "stdin",
     "output_type": "stream",
     "text": [
      "Provide label: See you around\n"
     ]
    },
    {
     "name": "stdout",
     "output_type": "stream",
     "text": [
      "./data/rendered_video/internal_resource_2337_fps10/internal_resource_9455_9494.avi\n"
     ]
    },
    {
     "name": "stdin",
     "output_type": "stream",
     "text": [
      "Provide label: See you around\n"
     ]
    },
    {
     "name": "stdout",
     "output_type": "stream",
     "text": [
      "./data/rendered_video/internal_resource_2337_fps10/internal_resource_9504_9544.avi\n"
     ]
    },
    {
     "name": "stdin",
     "output_type": "stream",
     "text": [
      "Provide label: See you around\n"
     ]
    },
    {
     "name": "stdout",
     "output_type": "stream",
     "text": [
      "./data/rendered_video/internal_resource_2337_fps10/internal_resource_9553_9591.avi\n"
     ]
    },
    {
     "name": "stdin",
     "output_type": "stream",
     "text": [
      "Provide label: See you around\n"
     ]
    },
    {
     "name": "stdout",
     "output_type": "stream",
     "text": [
      "./data/rendered_video/internal_resource_2337_fps10/internal_resource_9595_9596.avi\n"
     ]
    },
    {
     "name": "stdin",
     "output_type": "stream",
     "text": [
      "Provide label: ignore\n"
     ]
    },
    {
     "name": "stdout",
     "output_type": "stream",
     "text": [
      "./data/rendered_video/internal_resource_2337_fps10/internal_resource_9597_9598.avi\n"
     ]
    },
    {
     "name": "stdin",
     "output_type": "stream",
     "text": [
      "Provide label: ignore\n"
     ]
    },
    {
     "name": "stdout",
     "output_type": "stream",
     "text": [
      "./data/rendered_video/internal_resource_2337_fps10/internal_resource_9603_9643.avi\n"
     ]
    },
    {
     "name": "stdin",
     "output_type": "stream",
     "text": [
      "Provide label: See you around\n"
     ]
    },
    {
     "name": "stdout",
     "output_type": "stream",
     "text": [
      "./data/rendered_video/internal_resource_2337_fps10/internal_resource_9654_9693.avi\n"
     ]
    },
    {
     "name": "stdin",
     "output_type": "stream",
     "text": [
      "Provide label: See you around\n"
     ]
    },
    {
     "name": "stdout",
     "output_type": "stream",
     "text": [
      "./data/rendered_video/internal_resource_2337_fps10/internal_resource_9704_9743.avi\n"
     ]
    },
    {
     "name": "stdin",
     "output_type": "stream",
     "text": [
      "Provide label: See you around\n"
     ]
    },
    {
     "name": "stdout",
     "output_type": "stream",
     "text": [
      "./data/rendered_video/internal_resource_2337_fps10/internal_resource_9753_9794.avi\n"
     ]
    },
    {
     "name": "stdin",
     "output_type": "stream",
     "text": [
      "Provide label: See you around\n"
     ]
    },
    {
     "name": "stdout",
     "output_type": "stream",
     "text": [
      "./data/rendered_video/internal_resource_2337_fps10/internal_resource_9803_9843.avi\n"
     ]
    },
    {
     "name": "stdin",
     "output_type": "stream",
     "text": [
      "Provide label: See you around\n"
     ]
    },
    {
     "name": "stdout",
     "output_type": "stream",
     "text": [
      "./data/rendered_video/internal_resource_2337_fps10/internal_resource_9851_9892.avi\n"
     ]
    },
    {
     "name": "stdin",
     "output_type": "stream",
     "text": [
      "Provide label: See you around\n"
     ]
    },
    {
     "name": "stdout",
     "output_type": "stream",
     "text": [
      "./data/rendered_video/internal_resource_2337_fps10/internal_resource_9899_9941.avi\n"
     ]
    },
    {
     "name": "stdin",
     "output_type": "stream",
     "text": [
      "Provide label: See you around\n"
     ]
    },
    {
     "name": "stdout",
     "output_type": "stream",
     "text": [
      "./data/rendered_video/internal_resource_2337_fps10/internal_resource_9948_9990.avi\n"
     ]
    },
    {
     "name": "stdin",
     "output_type": "stream",
     "text": [
      "Provide label: See you around\n"
     ]
    },
    {
     "name": "stdout",
     "output_type": "stream",
     "text": [
      "./data/rendered_video/internal_resource_2337_fps10/internal_resource_9999_10039.avi\n"
     ]
    },
    {
     "name": "stdin",
     "output_type": "stream",
     "text": [
      "Provide label: See you around\n"
     ]
    },
    {
     "name": "stdout",
     "output_type": "stream",
     "text": [
      "./data/rendered_video/internal_resource_2337_fps10/internal_resource_10049_10088.avi\n"
     ]
    },
    {
     "name": "stdin",
     "output_type": "stream",
     "text": [
      "Provide label: See you around\n"
     ]
    },
    {
     "name": "stdout",
     "output_type": "stream",
     "text": [
      "./data/rendered_video/internal_resource_2337_fps10/internal_resource_10099_10140.avi\n"
     ]
    },
    {
     "name": "stdin",
     "output_type": "stream",
     "text": [
      "Provide label: See you around\n"
     ]
    },
    {
     "name": "stdout",
     "output_type": "stream",
     "text": [
      "./data/rendered_video/internal_resource_2337_fps10/internal_resource_10150_10191.avi\n"
     ]
    },
    {
     "name": "stdin",
     "output_type": "stream",
     "text": [
      "Provide label: See you around\n"
     ]
    },
    {
     "name": "stdout",
     "output_type": "stream",
     "text": [
      "./data/rendered_video/internal_resource_2337_fps10/internal_resource_10200_10239.avi\n"
     ]
    },
    {
     "name": "stdin",
     "output_type": "stream",
     "text": [
      "Provide label: See you around\n"
     ]
    },
    {
     "name": "stdout",
     "output_type": "stream",
     "text": [
      "./data/rendered_video/internal_resource_2337_fps10/internal_resource_10251_10292.avi\n"
     ]
    },
    {
     "name": "stdin",
     "output_type": "stream",
     "text": [
      "Provide label: See you around\n"
     ]
    },
    {
     "name": "stdout",
     "output_type": "stream",
     "text": [
      "./data/rendered_video/internal_resource_2337_fps10/internal_resource_10302_10343.avi\n"
     ]
    },
    {
     "name": "stdin",
     "output_type": "stream",
     "text": [
      "Provide label: See you around\n"
     ]
    },
    {
     "name": "stdout",
     "output_type": "stream",
     "text": [
      "./data/rendered_video/internal_resource_2337_fps10/internal_resource_10353_10395.avi\n"
     ]
    },
    {
     "name": "stdin",
     "output_type": "stream",
     "text": [
      "Provide label: See you around\n"
     ]
    },
    {
     "name": "stdout",
     "output_type": "stream",
     "text": [
      "./data/rendered_video/internal_resource_2337_fps10/internal_resource_10406_10449.avi\n"
     ]
    },
    {
     "name": "stdin",
     "output_type": "stream",
     "text": [
      "Provide label: See you around\n"
     ]
    },
    {
     "name": "stdout",
     "output_type": "stream",
     "text": [
      "./data/rendered_video/internal_resource_2337_fps10/internal_resource_10458_10500.avi\n"
     ]
    },
    {
     "name": "stdin",
     "output_type": "stream",
     "text": [
      "Provide label: See you around\n"
     ]
    },
    {
     "name": "stdout",
     "output_type": "stream",
     "text": [
      "./data/rendered_video/internal_resource_2337_fps10/internal_resource_10502_10503.avi\n"
     ]
    },
    {
     "name": "stdin",
     "output_type": "stream",
     "text": [
      "Provide label: ignore\n"
     ]
    },
    {
     "name": "stdout",
     "output_type": "stream",
     "text": [
      "./data/rendered_video/internal_resource_2337_fps10/internal_resource_10509_10551.avi\n"
     ]
    },
    {
     "name": "stdin",
     "output_type": "stream",
     "text": [
      "Provide label: See you around\n"
     ]
    },
    {
     "name": "stdout",
     "output_type": "stream",
     "text": [
      "./data/rendered_video/internal_resource_2337_fps10/internal_resource_10561_10600.avi\n"
     ]
    },
    {
     "name": "stdin",
     "output_type": "stream",
     "text": [
      "Provide label: See you around\n"
     ]
    },
    {
     "name": "stdout",
     "output_type": "stream",
     "text": [
      "./data/rendered_video/internal_resource_2337_fps10/internal_resource_10612_10652.avi\n"
     ]
    },
    {
     "name": "stdin",
     "output_type": "stream",
     "text": [
      "Provide label: See you around\n"
     ]
    },
    {
     "name": "stdout",
     "output_type": "stream",
     "text": [
      "./data/rendered_video/internal_resource_2337_fps10/internal_resource_10661_10701.avi\n"
     ]
    },
    {
     "name": "stdin",
     "output_type": "stream",
     "text": [
      "Provide label: See you around\n"
     ]
    },
    {
     "name": "stdout",
     "output_type": "stream",
     "text": [
      "./data/rendered_video/internal_resource_2337_fps10/internal_resource_10709_10750.avi\n"
     ]
    },
    {
     "name": "stdin",
     "output_type": "stream",
     "text": [
      "Provide label: See you around\n"
     ]
    },
    {
     "name": "stdout",
     "output_type": "stream",
     "text": [
      "./data/rendered_video/internal_resource_2337_fps10/internal_resource_10759_10799.avi\n"
     ]
    },
    {
     "name": "stdin",
     "output_type": "stream",
     "text": [
      "Provide label: See you around\n"
     ]
    },
    {
     "name": "stdout",
     "output_type": "stream",
     "text": [
      "./data/rendered_video/internal_resource_2337_fps10/internal_resource_10808_10848.avi\n"
     ]
    },
    {
     "name": "stdin",
     "output_type": "stream",
     "text": [
      "Provide label: See you around\n"
     ]
    },
    {
     "name": "stdout",
     "output_type": "stream",
     "text": [
      "./data/rendered_video/internal_resource_2337_fps10/internal_resource_10857_10898.avi\n"
     ]
    },
    {
     "name": "stdin",
     "output_type": "stream",
     "text": [
      "Provide label: See you around\n"
     ]
    },
    {
     "name": "stdout",
     "output_type": "stream",
     "text": [
      "./data/rendered_video/internal_resource_2337_fps10/internal_resource_10908_10949.avi\n"
     ]
    },
    {
     "name": "stdin",
     "output_type": "stream",
     "text": [
      "Provide label: See you around\n"
     ]
    },
    {
     "name": "stdout",
     "output_type": "stream",
     "text": [
      "./data/rendered_video/internal_resource_2337_fps10/internal_resource_10959_10998.avi\n"
     ]
    },
    {
     "name": "stdin",
     "output_type": "stream",
     "text": [
      "Provide label: See you around\n"
     ]
    },
    {
     "name": "stdout",
     "output_type": "stream",
     "text": [
      "./data/rendered_video/internal_resource_2337_fps10/internal_resource_11007_11047.avi\n"
     ]
    },
    {
     "name": "stdin",
     "output_type": "stream",
     "text": [
      "Provide label: See you around\n"
     ]
    },
    {
     "name": "stdout",
     "output_type": "stream",
     "text": [
      "./data/rendered_video/internal_resource_2337_fps10/internal_resource_11056_11058.avi\n"
     ]
    },
    {
     "name": "stdin",
     "output_type": "stream",
     "text": [
      "Provide label: ignore\n"
     ]
    },
    {
     "name": "stdout",
     "output_type": "stream",
     "text": [
      "./data/rendered_video/internal_resource_2337_fps10/internal_resource_11059_11098.avi\n"
     ]
    },
    {
     "name": "stdin",
     "output_type": "stream",
     "text": [
      "Provide label: See you around\n"
     ]
    },
    {
     "name": "stdout",
     "output_type": "stream",
     "text": [
      "./data/rendered_video/internal_resource_2337_fps10/internal_resource_11107_11146.avi\n"
     ]
    },
    {
     "name": "stdin",
     "output_type": "stream",
     "text": [
      "Provide label: See you around\n"
     ]
    },
    {
     "name": "stdout",
     "output_type": "stream",
     "text": [
      "./data/rendered_video/internal_resource_2337_fps10/internal_resource_11153_11175.avi\n"
     ]
    },
    {
     "name": "stdin",
     "output_type": "stream",
     "text": [
      "Provide label: Bye bye\n"
     ]
    },
    {
     "name": "stdout",
     "output_type": "stream",
     "text": [
      "./data/rendered_video/internal_resource_2337_fps10/internal_resource_11189_11213.avi\n"
     ]
    },
    {
     "name": "stdin",
     "output_type": "stream",
     "text": [
      "Provide label: Bye\n"
     ]
    },
    {
     "name": "stdout",
     "output_type": "stream",
     "text": [
      "./data/rendered_video/internal_resource_2337_fps10/internal_resource_11224_11250.avi\n"
     ]
    },
    {
     "name": "stdin",
     "output_type": "stream",
     "text": [
      "Provide label: Bye bye\n"
     ]
    },
    {
     "name": "stdout",
     "output_type": "stream",
     "text": [
      "./data/rendered_video/internal_resource_2337_fps10/internal_resource_11261_11287.avi\n"
     ]
    },
    {
     "name": "stdin",
     "output_type": "stream",
     "text": [
      "Provide label: Bye bye\n"
     ]
    },
    {
     "name": "stdout",
     "output_type": "stream",
     "text": [
      "./data/rendered_video/internal_resource_2337_fps10/internal_resource_11297_11323.avi\n"
     ]
    },
    {
     "name": "stdin",
     "output_type": "stream",
     "text": [
      "Provide label: Bye bye\n"
     ]
    },
    {
     "name": "stdout",
     "output_type": "stream",
     "text": [
      "./data/rendered_video/internal_resource_2337_fps10/internal_resource_11332_11359.avi\n"
     ]
    },
    {
     "name": "stdin",
     "output_type": "stream",
     "text": [
      "Provide label: Bye bye\n"
     ]
    },
    {
     "name": "stdout",
     "output_type": "stream",
     "text": [
      "./data/rendered_video/internal_resource_2337_fps10/internal_resource_11368_11397.avi\n"
     ]
    },
    {
     "name": "stdin",
     "output_type": "stream",
     "text": [
      "Provide label: Bye bye\n"
     ]
    },
    {
     "name": "stdout",
     "output_type": "stream",
     "text": [
      "./data/rendered_video/internal_resource_2337_fps10/internal_resource_11408_11435.avi\n"
     ]
    },
    {
     "name": "stdin",
     "output_type": "stream",
     "text": [
      "Provide label: Bye bye\n"
     ]
    },
    {
     "name": "stdout",
     "output_type": "stream",
     "text": [
      "./data/rendered_video/internal_resource_2337_fps10/internal_resource_11440_11442.avi\n"
     ]
    },
    {
     "name": "stdin",
     "output_type": "stream",
     "text": [
      "Provide label: ignore\n"
     ]
    },
    {
     "name": "stdout",
     "output_type": "stream",
     "text": [
      "./data/rendered_video/internal_resource_2337_fps10/internal_resource_11445_11471.avi\n"
     ]
    },
    {
     "name": "stdin",
     "output_type": "stream",
     "text": [
      "Provide label: Bye bye\n"
     ]
    },
    {
     "name": "stdout",
     "output_type": "stream",
     "text": [
      "./data/rendered_video/internal_resource_2337_fps10/internal_resource_11488_11513.avi\n"
     ]
    },
    {
     "name": "stdin",
     "output_type": "stream",
     "text": [
      "Provide label: Bye\n"
     ]
    },
    {
     "name": "stdout",
     "output_type": "stream",
     "text": [
      "./data/rendered_video/internal_resource_2337_fps10/internal_resource_11527_11555.avi\n"
     ]
    },
    {
     "name": "stdin",
     "output_type": "stream",
     "text": [
      "Provide label: Bye bye\n"
     ]
    },
    {
     "name": "stdout",
     "output_type": "stream",
     "text": [
      "./data/rendered_video/internal_resource_2337_fps10/internal_resource_11566_11593.avi\n"
     ]
    },
    {
     "name": "stdin",
     "output_type": "stream",
     "text": [
      "Provide label: Bye bye\n"
     ]
    },
    {
     "name": "stdout",
     "output_type": "stream",
     "text": [
      "./data/rendered_video/internal_resource_2337_fps10/internal_resource_11604_11629.avi\n"
     ]
    },
    {
     "name": "stdin",
     "output_type": "stream",
     "text": [
      "Provide label: Bye bye\n"
     ]
    },
    {
     "name": "stdout",
     "output_type": "stream",
     "text": [
      "./data/rendered_video/internal_resource_2337_fps10/internal_resource_11632_11633.avi\n"
     ]
    },
    {
     "name": "stdin",
     "output_type": "stream",
     "text": [
      "Provide label: ignore\n"
     ]
    },
    {
     "name": "stdout",
     "output_type": "stream",
     "text": [
      "./data/rendered_video/internal_resource_2337_fps10/internal_resource_11634_11635.avi\n"
     ]
    },
    {
     "name": "stdin",
     "output_type": "stream",
     "text": [
      "Provide label: ignore\n"
     ]
    },
    {
     "name": "stdout",
     "output_type": "stream",
     "text": [
      "./data/rendered_video/internal_resource_2337_fps10/internal_resource_11636_11637.avi\n"
     ]
    },
    {
     "name": "stdin",
     "output_type": "stream",
     "text": [
      "Provide label: ignore\n"
     ]
    },
    {
     "name": "stdout",
     "output_type": "stream",
     "text": [
      "./data/rendered_video/internal_resource_2337_fps10/internal_resource_11639_11666.avi\n"
     ]
    },
    {
     "name": "stdin",
     "output_type": "stream",
     "text": [
      "Provide label: Bye bye\n"
     ]
    },
    {
     "name": "stdout",
     "output_type": "stream",
     "text": [
      "./data/rendered_video/internal_resource_2337_fps10/internal_resource_11669_11671.avi\n"
     ]
    },
    {
     "name": "stdin",
     "output_type": "stream",
     "text": [
      "Provide label: ignore\n"
     ]
    },
    {
     "name": "stdout",
     "output_type": "stream",
     "text": [
      "./data/rendered_video/internal_resource_2337_fps10/internal_resource_11675_11702.avi\n"
     ]
    },
    {
     "name": "stdin",
     "output_type": "stream",
     "text": [
      "Provide label: Bye bye\n"
     ]
    },
    {
     "name": "stdout",
     "output_type": "stream",
     "text": [
      "./data/rendered_video/internal_resource_2337_fps10/internal_resource_11712_11737.avi\n"
     ]
    },
    {
     "name": "stdin",
     "output_type": "stream",
     "text": [
      "Provide label: Bye bye\n"
     ]
    },
    {
     "name": "stdout",
     "output_type": "stream",
     "text": [
      "./data/rendered_video/internal_resource_2337_fps10/internal_resource_11747_11773.avi\n"
     ]
    },
    {
     "name": "stdin",
     "output_type": "stream",
     "text": [
      "Provide label: Bye bye\n"
     ]
    },
    {
     "name": "stdout",
     "output_type": "stream",
     "text": [
      "./data/rendered_video/internal_resource_2337_fps10/internal_resource_11784_11809.avi\n"
     ]
    },
    {
     "name": "stdin",
     "output_type": "stream",
     "text": [
      "Provide label: Bye bye\n"
     ]
    },
    {
     "name": "stdout",
     "output_type": "stream",
     "text": [
      "./data/rendered_video/internal_resource_2337_fps10/internal_resource_11820_11851.avi\n"
     ]
    },
    {
     "name": "stdin",
     "output_type": "stream",
     "text": [
      "Provide label: Bye bye\n"
     ]
    },
    {
     "name": "stdout",
     "output_type": "stream",
     "text": [
      "./data/rendered_video/internal_resource_2337_fps10/internal_resource_11862_11889.avi\n"
     ]
    },
    {
     "name": "stdin",
     "output_type": "stream",
     "text": [
      "Provide label: Bye bye\n"
     ]
    },
    {
     "name": "stdout",
     "output_type": "stream",
     "text": [
      "./data/rendered_video/internal_resource_2337_fps10/internal_resource_11899_11925.avi\n"
     ]
    },
    {
     "name": "stdin",
     "output_type": "stream",
     "text": [
      "Provide label: Bye bye\n"
     ]
    },
    {
     "name": "stdout",
     "output_type": "stream",
     "text": [
      "./data/rendered_video/internal_resource_2337_fps10/internal_resource_11937_11962.avi\n"
     ]
    },
    {
     "name": "stdin",
     "output_type": "stream",
     "text": [
      "Provide label: Bye bye\n"
     ]
    },
    {
     "name": "stdout",
     "output_type": "stream",
     "text": [
      "./data/rendered_video/internal_resource_2337_fps10/internal_resource_11973_11996.avi\n"
     ]
    },
    {
     "name": "stdin",
     "output_type": "stream",
     "text": [
      "Provide label: Bye bye\n"
     ]
    },
    {
     "name": "stdout",
     "output_type": "stream",
     "text": [
      "./data/rendered_video/internal_resource_2337_fps10/internal_resource_12003_12019.avi\n"
     ]
    },
    {
     "name": "stdin",
     "output_type": "stream",
     "text": [
      "Provide label: ignore\n"
     ]
    }
   ],
   "source": [
    "labels_output = []\n",
    "\n",
    "for sequence in sequence_info:\n",
    "    #clear_output(wait=True)\n",
    "    print(sequence['video_path'])\n",
    "    \n",
    "    label = input('Provide label:')\n",
    "       \n",
    "    labels_output.append({\n",
    "        'id': sequence['id'],\n",
    "        'video_path': sequence['video_path'],\n",
    "        'label': label})\n"
   ]
  },
  {
   "cell_type": "code",
   "execution_count": 14,
   "metadata": {},
   "outputs": [
    {
     "data": {
      "text/plain": [
       "{'id': 0,\n",
       " 'video_path': './data/rendered_video/internal_resource_2337_fps10/internal_resource_13_34.avi',\n",
       " 'image_path': ['/home/tom/Desktop/projects/sign-language/data/video_frames/internal_resource_2337_fps10/internal_resource_2337_000113.jpg',\n",
       "  '/home/tom/Desktop/projects/sign-language/data/video_frames/internal_resource_2337_fps10/internal_resource_2337_000114.jpg',\n",
       "  '/home/tom/Desktop/projects/sign-language/data/video_frames/internal_resource_2337_fps10/internal_resource_2337_000115.jpg',\n",
       "  '/home/tom/Desktop/projects/sign-language/data/video_frames/internal_resource_2337_fps10/internal_resource_2337_000116.jpg',\n",
       "  '/home/tom/Desktop/projects/sign-language/data/video_frames/internal_resource_2337_fps10/internal_resource_2337_000117.jpg',\n",
       "  '/home/tom/Desktop/projects/sign-language/data/video_frames/internal_resource_2337_fps10/internal_resource_2337_000118.jpg',\n",
       "  '/home/tom/Desktop/projects/sign-language/data/video_frames/internal_resource_2337_fps10/internal_resource_2337_000119.jpg',\n",
       "  '/home/tom/Desktop/projects/sign-language/data/video_frames/internal_resource_2337_fps10/internal_resource_2337_000120.jpg',\n",
       "  '/home/tom/Desktop/projects/sign-language/data/video_frames/internal_resource_2337_fps10/internal_resource_2337_000121.jpg',\n",
       "  '/home/tom/Desktop/projects/sign-language/data/video_frames/internal_resource_2337_fps10/internal_resource_2337_000122.jpg',\n",
       "  '/home/tom/Desktop/projects/sign-language/data/video_frames/internal_resource_2337_fps10/internal_resource_2337_000123.jpg',\n",
       "  '/home/tom/Desktop/projects/sign-language/data/video_frames/internal_resource_2337_fps10/internal_resource_2337_000124.jpg',\n",
       "  '/home/tom/Desktop/projects/sign-language/data/video_frames/internal_resource_2337_fps10/internal_resource_2337_000125.jpg',\n",
       "  '/home/tom/Desktop/projects/sign-language/data/video_frames/internal_resource_2337_fps10/internal_resource_2337_000126.jpg',\n",
       "  '/home/tom/Desktop/projects/sign-language/data/video_frames/internal_resource_2337_fps10/internal_resource_2337_000127.jpg',\n",
       "  '/home/tom/Desktop/projects/sign-language/data/video_frames/internal_resource_2337_fps10/internal_resource_2337_000128.jpg',\n",
       "  '/home/tom/Desktop/projects/sign-language/data/video_frames/internal_resource_2337_fps10/internal_resource_2337_000129.jpg',\n",
       "  '/home/tom/Desktop/projects/sign-language/data/video_frames/internal_resource_2337_fps10/internal_resource_2337_000130.jpg',\n",
       "  '/home/tom/Desktop/projects/sign-language/data/video_frames/internal_resource_2337_fps10/internal_resource_2337_000131.jpg',\n",
       "  '/home/tom/Desktop/projects/sign-language/data/video_frames/internal_resource_2337_fps10/internal_resource_2337_000132.jpg',\n",
       "  '/home/tom/Desktop/projects/sign-language/data/video_frames/internal_resource_2337_fps10/internal_resource_2337_000133.jpg'],\n",
       " 'keypoints_path': ['/home/tom/Desktop/projects/sign-language/data/keypoints/internal_resource_2337_fps10/internal_resource_2337_000113_keypoints.json',\n",
       "  '/home/tom/Desktop/projects/sign-language/data/keypoints/internal_resource_2337_fps10/internal_resource_2337_000114_keypoints.json',\n",
       "  '/home/tom/Desktop/projects/sign-language/data/keypoints/internal_resource_2337_fps10/internal_resource_2337_000115_keypoints.json',\n",
       "  '/home/tom/Desktop/projects/sign-language/data/keypoints/internal_resource_2337_fps10/internal_resource_2337_000116_keypoints.json',\n",
       "  '/home/tom/Desktop/projects/sign-language/data/keypoints/internal_resource_2337_fps10/internal_resource_2337_000117_keypoints.json',\n",
       "  '/home/tom/Desktop/projects/sign-language/data/keypoints/internal_resource_2337_fps10/internal_resource_2337_000118_keypoints.json',\n",
       "  '/home/tom/Desktop/projects/sign-language/data/keypoints/internal_resource_2337_fps10/internal_resource_2337_000119_keypoints.json',\n",
       "  '/home/tom/Desktop/projects/sign-language/data/keypoints/internal_resource_2337_fps10/internal_resource_2337_000120_keypoints.json',\n",
       "  '/home/tom/Desktop/projects/sign-language/data/keypoints/internal_resource_2337_fps10/internal_resource_2337_000121_keypoints.json',\n",
       "  '/home/tom/Desktop/projects/sign-language/data/keypoints/internal_resource_2337_fps10/internal_resource_2337_000122_keypoints.json',\n",
       "  '/home/tom/Desktop/projects/sign-language/data/keypoints/internal_resource_2337_fps10/internal_resource_2337_000123_keypoints.json',\n",
       "  '/home/tom/Desktop/projects/sign-language/data/keypoints/internal_resource_2337_fps10/internal_resource_2337_000124_keypoints.json',\n",
       "  '/home/tom/Desktop/projects/sign-language/data/keypoints/internal_resource_2337_fps10/internal_resource_2337_000125_keypoints.json',\n",
       "  '/home/tom/Desktop/projects/sign-language/data/keypoints/internal_resource_2337_fps10/internal_resource_2337_000126_keypoints.json',\n",
       "  '/home/tom/Desktop/projects/sign-language/data/keypoints/internal_resource_2337_fps10/internal_resource_2337_000127_keypoints.json',\n",
       "  '/home/tom/Desktop/projects/sign-language/data/keypoints/internal_resource_2337_fps10/internal_resource_2337_000128_keypoints.json',\n",
       "  '/home/tom/Desktop/projects/sign-language/data/keypoints/internal_resource_2337_fps10/internal_resource_2337_000129_keypoints.json',\n",
       "  '/home/tom/Desktop/projects/sign-language/data/keypoints/internal_resource_2337_fps10/internal_resource_2337_000130_keypoints.json',\n",
       "  '/home/tom/Desktop/projects/sign-language/data/keypoints/internal_resource_2337_fps10/internal_resource_2337_000131_keypoints.json',\n",
       "  '/home/tom/Desktop/projects/sign-language/data/keypoints/internal_resource_2337_fps10/internal_resource_2337_000132_keypoints.json',\n",
       "  '/home/tom/Desktop/projects/sign-language/data/keypoints/internal_resource_2337_fps10/internal_resource_2337_000133_keypoints.json'],\n",
       " 'label': 'Hello'}"
      ]
     },
     "execution_count": 14,
     "metadata": {},
     "output_type": "execute_result"
    }
   ],
   "source": [
    "sequence_labels = []\n",
    "for seq, labels in zip(sequence_info, labels_output):\n",
    "    sequence_labels.append({**seq, **labels})\n",
    "    \n",
    "sequence_labels[0]"
   ]
  },
  {
   "cell_type": "code",
   "execution_count": 15,
   "metadata": {},
   "outputs": [],
   "source": [
    "# Prepare template for labeling\n",
    "\n",
    "import time\n",
    "\n",
    "t = time.localtime()\n",
    "timestamp = time.strftime('%b-%d-%Y_%H%M', t)\n",
    "\n",
    "output_file_path = os.path.join('./data/labels/sequence', f'sequence_labels{timestamp}.json')\n",
    "with open(output_file_path, 'w') as outfile:\n",
    "    json.dump(sequence_labels, outfile)"
   ]
  },
  {
   "cell_type": "code",
   "execution_count": 16,
   "metadata": {},
   "outputs": [
    {
     "data": {
      "text/plain": [
       "You               60\n",
       "My                50\n",
       "See you around    42\n",
       "Name              35\n",
       "Meet              30\n",
       "Nice              28\n",
       "Bye bye           21\n",
       "Tom               19\n",
       "ignore            13\n",
       "Good day          10\n",
       "Hello              7\n",
       "Bye                2\n",
       "Name: label, dtype: int64"
      ]
     },
     "execution_count": 16,
     "metadata": {},
     "output_type": "execute_result"
    }
   ],
   "source": [
    "df_all = pd.DataFrame(sequence_labels)\n",
    "df_all.label.value_counts()"
   ]
  },
  {
   "cell_type": "code",
   "execution_count": null,
   "metadata": {},
   "outputs": [],
   "source": []
  }
 ],
 "metadata": {
  "kernelspec": {
   "display_name": "dsr-dl",
   "language": "python",
   "name": "dl"
  },
  "language_info": {
   "codemirror_mode": {
    "name": "ipython",
    "version": 3
   },
   "file_extension": ".py",
   "mimetype": "text/x-python",
   "name": "python",
   "nbconvert_exporter": "python",
   "pygments_lexer": "ipython3",
   "version": "3.7.7"
  }
 },
 "nbformat": 4,
 "nbformat_minor": 4
}
